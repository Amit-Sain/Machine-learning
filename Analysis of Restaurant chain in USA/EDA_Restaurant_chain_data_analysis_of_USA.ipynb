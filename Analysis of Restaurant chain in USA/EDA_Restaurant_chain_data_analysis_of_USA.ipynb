{
 "cells": [
  {
   "cell_type": "markdown",
   "metadata": {},
   "source": [
    "<img src=\"https://github.com/insaid2018/Term-1/blob/master/Images/INSAID_Full%20Logo.png?raw=true\" width=\"240\" height=\"360\" />\n",
    "\n",
    "### Exploratory Data Analysis II"
   ]
  },
  {
   "cell_type": "markdown",
   "metadata": {},
   "source": [
    "### Table of Contents\n",
    "- 1. [Problem Statement](#section1)</br>\n",
    "    - 1.1 [Introduction](#section101)<br/>\n",
    "    - 1.2 [Data source and data set](#section102)<br/>\n",
    "- 2. [Load the packages and data](#section2)</br>\n",
    "- 3. [Data profiling](#section3)</br>\n",
    "    - 3.1 [shape](#section301)<br/>\n",
    "    - 3.2 [dtypes](#section302)<br/>\n",
    "    - 3.3 [column](#section303)<br/>\n",
    "    - 3.4 [head](#section304)<br/>\n",
    "    - 3.5 [describe](#section305)<br/>\n",
    "    - 3.6 [sample](#section306)<br/>\n",
    "    - 3.7 [Pandas profiling](#section307)<br/>\n",
    "    - 3.8 [Initial observations](#section308)<br/>\n",
    "    - 3.9 [Final observations](#section309)<br/>\n",
    "- 4. [Data normalization](#section4)</br>\n",
    "    - 4.1 [Data correction for the field 'name'](#section401)<br/>\n",
    "    - 4.2 [Missing data and its imputation](#section402)<br/>\n",
    "    \n",
    "    \n",
    "- 5. [Identify patterns in the data](#section5)</br>\n",
    "    \n",
    "- 6. [Analysis through questions](#section6)</br>\n",
    "     \n",
    "        \n",
    "- 7. [Conclusion](#section7)<br/>"
   ]
  },
  {
   "cell_type": "markdown",
   "metadata": {},
   "source": [
    "<a id=section1></a> \n",
    "\n",
    "## 1. Problem Statement ! \n",
    "\n",
    "This data set is from a survey on the Food chain restaurants through out the USA. \n",
    "\n",
    "<a id=section101></a>\n",
    "\n",
    "### 1.1. Introduction\n",
    "\n",
    "This Exploratory Data Analysis is to practice Python skills learned till now on a structured data set including loading, inspecting, wrangling, exploring, and drawing conclusions from data. The notebook has observations with each step in order to explain thoroughly how to approach the data set. Based on the observation some questions also are answered in the notebook for the reference though not all of them are explored in the analysis. \n",
    "\n",
    "<a id=section102></a>\n",
    "\n",
    "### 1.2. Data source and dataset\n",
    "\n",
    "__a__. Dataset details:\n",
    "\n",
    "- __Name__: \"FastFoodRestaurants\"\n",
    "- __Description__: With over 500 fastfood restaurant all over the USA with  address,postal code,city and province.\n",
    "\n",
    "__b__. Is it a sample? If yes, was it properly sampled?\n",
    "\n",
    "- Yes, it is a sample. We don't have official information about the data collection method, but it appears *not* to be a random sample, so we can assume that it is not representative. "
   ]
  },
  {
   "cell_type": "markdown",
   "metadata": {},
   "source": [
    "<a id=section2></a>"
   ]
  },
  {
   "cell_type": "markdown",
   "metadata": {},
   "source": [
    "### 2. Load the packages and data "
   ]
  },
  {
   "cell_type": "markdown",
   "metadata": {},
   "source": [
    "#### Run this line in case you dont have pandas_profiling installed.\n",
    "```python\n",
    "!pip install pandas_profiling\n",
    "```                                                  "
   ]
  },
  {
   "cell_type": "code",
   "execution_count": 2,
   "metadata": {},
   "outputs": [],
   "source": [
    "import sys                                                                      # Import packages\n",
    "import pandas as pnd\n",
    "import seaborn as sns\n",
    "import numpy as np\n",
    "import geopandas\n",
    "from shapely.geometry import Point\n",
    "import matplotlib.pyplot as plt\n",
    "from matplotlib.pyplot import pie, axis, show\n",
    "%matplotlib inline \n",
    "\n",
    "df= pnd.read_csv('https://raw.githubusercontent.com/insaid2018/Term-1/master/Data/Projects/FastFoodRestaurants.csv')\n"
   ]
  },
  {
   "cell_type": "markdown",
   "metadata": {},
   "source": [
    "<a id=section3></a>"
   ]
  },
  {
   "cell_type": "markdown",
   "metadata": {},
   "source": [
    "### 3. Data Profiling\n",
    "\n",
    "Review the data types and sample data to understand what variables we are dealing with<br>\n",
    "Which variables need to be transformed in some way before they can be analyzed?"
   ]
  },
  {
   "cell_type": "markdown",
   "metadata": {},
   "source": [
    "<a id=section301></a>"
   ]
  },
  {
   "cell_type": "code",
   "execution_count": 3,
   "metadata": {},
   "outputs": [
    {
     "data": {
      "text/plain": [
       "(10000, 10)"
      ]
     },
     "execution_count": 3,
     "metadata": {},
     "output_type": "execute_result"
    }
   ],
   "source": [
    "df.shape                                     #To get the row and column number including index"
   ]
  },
  {
   "cell_type": "markdown",
   "metadata": {},
   "source": [
    "<a id=section302></a>"
   ]
  },
  {
   "cell_type": "code",
   "execution_count": 4,
   "metadata": {},
   "outputs": [
    {
     "data": {
      "text/plain": [
       "address        object\n",
       "city           object\n",
       "country        object\n",
       "keys           object\n",
       "latitude      float64\n",
       "longitude     float64\n",
       "name           object\n",
       "postalCode     object\n",
       "province       object\n",
       "websites       object\n",
       "dtype: object"
      ]
     },
     "execution_count": 4,
     "metadata": {},
     "output_type": "execute_result"
    }
   ],
   "source": [
    "df.dtypes "
   ]
  },
  {
   "cell_type": "markdown",
   "metadata": {},
   "source": [
    "<a id=section303></a>"
   ]
  },
  {
   "cell_type": "code",
   "execution_count": 5,
   "metadata": {},
   "outputs": [
    {
     "data": {
      "text/plain": [
       "Index(['address', 'city', 'country', 'keys', 'latitude', 'longitude', 'name',\n",
       "       'postalCode', 'province', 'websites'],\n",
       "      dtype='object')"
      ]
     },
     "execution_count": 5,
     "metadata": {},
     "output_type": "execute_result"
    }
   ],
   "source": [
    "df.columns                         #to get the types of column in the data set"
   ]
  },
  {
   "cell_type": "markdown",
   "metadata": {},
   "source": [
    "<a id=section304></a>"
   ]
  },
  {
   "cell_type": "code",
   "execution_count": 6,
   "metadata": {},
   "outputs": [
    {
     "data": {
      "text/html": [
       "<div>\n",
       "<style scoped>\n",
       "    .dataframe tbody tr th:only-of-type {\n",
       "        vertical-align: middle;\n",
       "    }\n",
       "\n",
       "    .dataframe tbody tr th {\n",
       "        vertical-align: top;\n",
       "    }\n",
       "\n",
       "    .dataframe thead th {\n",
       "        text-align: right;\n",
       "    }\n",
       "</style>\n",
       "<table border=\"1\" class=\"dataframe\">\n",
       "  <thead>\n",
       "    <tr style=\"text-align: right;\">\n",
       "      <th></th>\n",
       "      <th>address</th>\n",
       "      <th>city</th>\n",
       "      <th>country</th>\n",
       "      <th>keys</th>\n",
       "      <th>latitude</th>\n",
       "      <th>longitude</th>\n",
       "      <th>name</th>\n",
       "      <th>postalCode</th>\n",
       "      <th>province</th>\n",
       "      <th>websites</th>\n",
       "    </tr>\n",
       "  </thead>\n",
       "  <tbody>\n",
       "    <tr>\n",
       "      <th>0</th>\n",
       "      <td>324 Main St</td>\n",
       "      <td>Massena</td>\n",
       "      <td>US</td>\n",
       "      <td>us/ny/massena/324mainst/-1161002137</td>\n",
       "      <td>44.921300</td>\n",
       "      <td>-74.890210</td>\n",
       "      <td>McDonald's</td>\n",
       "      <td>13662</td>\n",
       "      <td>NY</td>\n",
       "      <td>http://mcdonalds.com,http://www.mcdonalds.com/...</td>\n",
       "    </tr>\n",
       "    <tr>\n",
       "      <th>1</th>\n",
       "      <td>530 Clinton Ave</td>\n",
       "      <td>Washington Court House</td>\n",
       "      <td>US</td>\n",
       "      <td>us/oh/washingtoncourthouse/530clintonave/-7914...</td>\n",
       "      <td>39.532550</td>\n",
       "      <td>-83.445260</td>\n",
       "      <td>Wendy's</td>\n",
       "      <td>43160</td>\n",
       "      <td>OH</td>\n",
       "      <td>http://www.wendys.com</td>\n",
       "    </tr>\n",
       "    <tr>\n",
       "      <th>2</th>\n",
       "      <td>408 Market Square Dr</td>\n",
       "      <td>Maysville</td>\n",
       "      <td>US</td>\n",
       "      <td>us/ky/maysville/408marketsquaredr/1051460804</td>\n",
       "      <td>38.627360</td>\n",
       "      <td>-83.791410</td>\n",
       "      <td>Frisch's Big Boy</td>\n",
       "      <td>41056</td>\n",
       "      <td>KY</td>\n",
       "      <td>http://www.frischs.com,https://www.frischs.com...</td>\n",
       "    </tr>\n",
       "    <tr>\n",
       "      <th>3</th>\n",
       "      <td>6098 State Highway 37</td>\n",
       "      <td>Massena</td>\n",
       "      <td>US</td>\n",
       "      <td>us/ny/massena/6098statehighway37/-1161002137</td>\n",
       "      <td>44.950080</td>\n",
       "      <td>-74.845530</td>\n",
       "      <td>McDonald's</td>\n",
       "      <td>13662</td>\n",
       "      <td>NY</td>\n",
       "      <td>http://mcdonalds.com,http://www.mcdonalds.com/...</td>\n",
       "    </tr>\n",
       "    <tr>\n",
       "      <th>4</th>\n",
       "      <td>139 Columbus Rd</td>\n",
       "      <td>Athens</td>\n",
       "      <td>US</td>\n",
       "      <td>us/oh/athens/139columbusrd/990890980</td>\n",
       "      <td>39.351550</td>\n",
       "      <td>-82.097280</td>\n",
       "      <td>OMG! Rotisserie</td>\n",
       "      <td>45701</td>\n",
       "      <td>OH</td>\n",
       "      <td>http://www.omgrotisserie.com,http://omgrotisse...</td>\n",
       "    </tr>\n",
       "    <tr>\n",
       "      <th>5</th>\n",
       "      <td>4182 Tonya Trl</td>\n",
       "      <td>Hamilton</td>\n",
       "      <td>US</td>\n",
       "      <td>us/oh/hamilton/4182tonyatrl/-1055723171</td>\n",
       "      <td>39.417600</td>\n",
       "      <td>-84.476410</td>\n",
       "      <td>Domino's Pizza</td>\n",
       "      <td>45011</td>\n",
       "      <td>OH</td>\n",
       "      <td>https://www.dominos.com/en/?redirect=homepage,...</td>\n",
       "    </tr>\n",
       "    <tr>\n",
       "      <th>6</th>\n",
       "      <td>590 S Main St</td>\n",
       "      <td>Englewood</td>\n",
       "      <td>US</td>\n",
       "      <td>us/oh/englewood/590smainst/-1055723171</td>\n",
       "      <td>39.869690</td>\n",
       "      <td>-84.293580</td>\n",
       "      <td>Domino's Pizza</td>\n",
       "      <td>45322</td>\n",
       "      <td>OH</td>\n",
       "      <td>https://www.dominos.com/en/?redirect=homepagea...</td>\n",
       "    </tr>\n",
       "    <tr>\n",
       "      <th>7</th>\n",
       "      <td>401 N Jennings St</td>\n",
       "      <td>Saluda</td>\n",
       "      <td>US</td>\n",
       "      <td>us/sc/saluda/401njenningsst/-1161002137</td>\n",
       "      <td>34.005980</td>\n",
       "      <td>-81.770400</td>\n",
       "      <td>McDonald's</td>\n",
       "      <td>29138</td>\n",
       "      <td>SC</td>\n",
       "      <td>http://www.mcdonalds.com</td>\n",
       "    </tr>\n",
       "    <tr>\n",
       "      <th>8</th>\n",
       "      <td>205 W Church St</td>\n",
       "      <td>Batesburg</td>\n",
       "      <td>US</td>\n",
       "      <td>us/sc/batesburg/205wchurchst/-791445730</td>\n",
       "      <td>33.913350</td>\n",
       "      <td>-81.533300</td>\n",
       "      <td>Wendy's</td>\n",
       "      <td>29006</td>\n",
       "      <td>SC</td>\n",
       "      <td>http://www.wendys.com</td>\n",
       "    </tr>\n",
       "    <tr>\n",
       "      <th>9</th>\n",
       "      <td>2711 W. Kings Highway Ste. 18</td>\n",
       "      <td>Paragould</td>\n",
       "      <td>US</td>\n",
       "      <td>us/ar/paragould/2711wkingshighwayste18/-66712705</td>\n",
       "      <td>36.061070</td>\n",
       "      <td>-90.523250</td>\n",
       "      <td>Pizza Hut</td>\n",
       "      <td>72450</td>\n",
       "      <td>AR</td>\n",
       "      <td>http://www.pizzahut.com</td>\n",
       "    </tr>\n",
       "    <tr>\n",
       "      <th>10</th>\n",
       "      <td>613 W Center St</td>\n",
       "      <td>Sheridan</td>\n",
       "      <td>US</td>\n",
       "      <td>us/ar/sheridan/613wcenterst/1780593795</td>\n",
       "      <td>34.306870</td>\n",
       "      <td>-92.407840</td>\n",
       "      <td>SONIC Drive In</td>\n",
       "      <td>72150</td>\n",
       "      <td>AR</td>\n",
       "      <td>https://locations.sonicdrivein.com/ar/sheridan...</td>\n",
       "    </tr>\n",
       "    <tr>\n",
       "      <th>11</th>\n",
       "      <td>512 Highway 425 S Lot B</td>\n",
       "      <td>Monticello</td>\n",
       "      <td>US</td>\n",
       "      <td>us/ar/monticello/512highway425slotb/-1055723171</td>\n",
       "      <td>33.619370</td>\n",
       "      <td>-91.802320</td>\n",
       "      <td>Domino's Pizza</td>\n",
       "      <td>71655</td>\n",
       "      <td>AR</td>\n",
       "      <td>https://www.dominos.com/en/?redirect=homepage,...</td>\n",
       "    </tr>\n",
       "    <tr>\n",
       "      <th>12</th>\n",
       "      <td>1535 NW 50th St</td>\n",
       "      <td>Oklahoma City</td>\n",
       "      <td>US</td>\n",
       "      <td>us/ok/oklahomacity/1535nw50thst/-1161002137</td>\n",
       "      <td>35.522340</td>\n",
       "      <td>-97.538200</td>\n",
       "      <td>McDonald's</td>\n",
       "      <td>73118</td>\n",
       "      <td>OK</td>\n",
       "      <td>http://mcdonalds.com,http://www.mcdonalds.com/...</td>\n",
       "    </tr>\n",
       "    <tr>\n",
       "      <th>13</th>\n",
       "      <td>125 Towne Center Dr</td>\n",
       "      <td>Lexington</td>\n",
       "      <td>US</td>\n",
       "      <td>us/ky/lexington/125townecenterdr/-1055723171</td>\n",
       "      <td>38.067530</td>\n",
       "      <td>-84.530430</td>\n",
       "      <td>Domino's Pizza</td>\n",
       "      <td>40511</td>\n",
       "      <td>KY</td>\n",
       "      <td>https://www.dominos.com/en/?redirect=homepagea...</td>\n",
       "    </tr>\n",
       "    <tr>\n",
       "      <th>14</th>\n",
       "      <td>66 14th St.</td>\n",
       "      <td>Tell City</td>\n",
       "      <td>US</td>\n",
       "      <td>us/in/tellcity/6614thst/1516016543</td>\n",
       "      <td>37.941032</td>\n",
       "      <td>-86.762115</td>\n",
       "      <td>Long John Silver's</td>\n",
       "      <td>47586</td>\n",
       "      <td>IN</td>\n",
       "      <td>http://www.ljsilvers.com</td>\n",
       "    </tr>\n",
       "    <tr>\n",
       "      <th>15</th>\n",
       "      <td>301 University Blvd</td>\n",
       "      <td>Louisville</td>\n",
       "      <td>US</td>\n",
       "      <td>us/ky/louisville/301universityblvd/-1161002137</td>\n",
       "      <td>38.219990</td>\n",
       "      <td>-85.764824</td>\n",
       "      <td>McDonald's</td>\n",
       "      <td>40208</td>\n",
       "      <td>KY</td>\n",
       "      <td>http://mcdonalds.com,http://www.mcdonalds.com/...</td>\n",
       "    </tr>\n",
       "    <tr>\n",
       "      <th>16</th>\n",
       "      <td>5812 NW Expressway</td>\n",
       "      <td>Oklahoma City</td>\n",
       "      <td>US</td>\n",
       "      <td>us/ok/oklahomacity/5812nwexpressway/-1161002137</td>\n",
       "      <td>35.548150</td>\n",
       "      <td>-97.617170</td>\n",
       "      <td>McDonald's</td>\n",
       "      <td>73132</td>\n",
       "      <td>OK</td>\n",
       "      <td>http://mcdonalds.com,http://www.mcdonalds.com/...</td>\n",
       "    </tr>\n",
       "    <tr>\n",
       "      <th>17</th>\n",
       "      <td>101 Thomas Garst Ln</td>\n",
       "      <td>Leland</td>\n",
       "      <td>US</td>\n",
       "      <td>us/nc/leland/101thomasgarstln/-864103396</td>\n",
       "      <td>34.233890</td>\n",
       "      <td>-77.995440</td>\n",
       "      <td>Taco Bell</td>\n",
       "      <td>28451</td>\n",
       "      <td>NC</td>\n",
       "      <td>http://www.tacobell.com,https://locations.taco...</td>\n",
       "    </tr>\n",
       "    <tr>\n",
       "      <th>18</th>\n",
       "      <td>1111 New Pointe Blvd</td>\n",
       "      <td>Leland</td>\n",
       "      <td>US</td>\n",
       "      <td>us/nc/leland/1111newpointeblvd/-1161002137</td>\n",
       "      <td>34.211880</td>\n",
       "      <td>-78.024540</td>\n",
       "      <td>McDonald's</td>\n",
       "      <td>28451</td>\n",
       "      <td>NC</td>\n",
       "      <td>http://mcdonalds.com,http://www.mcdonalds.com/...</td>\n",
       "    </tr>\n",
       "    <tr>\n",
       "      <th>19</th>\n",
       "      <td>782 Old Hickory Blvd Ste 120</td>\n",
       "      <td>Brentwood</td>\n",
       "      <td>US</td>\n",
       "      <td>us/tn/brentwood/782oldhickoryblvdste120/-72295...</td>\n",
       "      <td>36.042220</td>\n",
       "      <td>-86.779950</td>\n",
       "      <td>Qdoba Mexican Grill</td>\n",
       "      <td>37027</td>\n",
       "      <td>TN</td>\n",
       "      <td>http://www.qdoba.com,https://locations.qdoba.c...</td>\n",
       "    </tr>\n",
       "    <tr>\n",
       "      <th>20</th>\n",
       "      <td>108 Village Rd NE</td>\n",
       "      <td>Leland</td>\n",
       "      <td>US</td>\n",
       "      <td>us/nc/leland/108villagerdne/-1161002137</td>\n",
       "      <td>34.234477</td>\n",
       "      <td>-78.000649</td>\n",
       "      <td>McDonald's</td>\n",
       "      <td>28451</td>\n",
       "      <td>NC</td>\n",
       "      <td>http://mcdonalds.com,http://www.mcdonalds.com/...</td>\n",
       "    </tr>\n",
       "    <tr>\n",
       "      <th>21</th>\n",
       "      <td>1116 Old Highway 60</td>\n",
       "      <td>Hardinsburg</td>\n",
       "      <td>US</td>\n",
       "      <td>us/ky/hardinsburg/1116oldhighway60/-1161002137</td>\n",
       "      <td>37.792641</td>\n",
       "      <td>-86.492762</td>\n",
       "      <td>McDonald's</td>\n",
       "      <td>40143</td>\n",
       "      <td>KY</td>\n",
       "      <td>http://mcdonalds.com,http://www.mcdonalds.com/...</td>\n",
       "    </tr>\n",
       "    <tr>\n",
       "      <th>22</th>\n",
       "      <td>1423 Southwest Pkwy</td>\n",
       "      <td>Wichita Falls</td>\n",
       "      <td>US</td>\n",
       "      <td>us/tx/wichitafalls/1423southwestpkwy/-1161002137</td>\n",
       "      <td>33.853710</td>\n",
       "      <td>-98.500650</td>\n",
       "      <td>McDonald's</td>\n",
       "      <td>76302</td>\n",
       "      <td>TX</td>\n",
       "      <td>http://www.mcdonalds.com/?cid=RF:YXT_FM:TP::Ye...</td>\n",
       "    </tr>\n",
       "    <tr>\n",
       "      <th>23</th>\n",
       "      <td>908 Padre Blvd</td>\n",
       "      <td>South Padre Island</td>\n",
       "      <td>US</td>\n",
       "      <td>us/tx/southpadreisland/908padreblvd/-1161002137</td>\n",
       "      <td>26.091050</td>\n",
       "      <td>-97.164300</td>\n",
       "      <td>McDonald's</td>\n",
       "      <td>78597</td>\n",
       "      <td>TX</td>\n",
       "      <td>http://www.mcdonalds.com/?cid=RF:YXT_FM:TP::Ye...</td>\n",
       "    </tr>\n",
       "    <tr>\n",
       "      <th>24</th>\n",
       "      <td>1131n N Main St</td>\n",
       "      <td>Miami</td>\n",
       "      <td>US</td>\n",
       "      <td>us/ok/miami/1131nnmainst/-1161002137</td>\n",
       "      <td>36.888260</td>\n",
       "      <td>-94.877660</td>\n",
       "      <td>McDonald's</td>\n",
       "      <td>74354</td>\n",
       "      <td>OK</td>\n",
       "      <td>http://www.mcdonalds.com/?cid=RF:YXT_FM:TP::Ye...</td>\n",
       "    </tr>\n",
       "    <tr>\n",
       "      <th>25</th>\n",
       "      <td>3401 Hwy 165 North</td>\n",
       "      <td>Pineville</td>\n",
       "      <td>US</td>\n",
       "      <td>us/la/pineville/3401hwy165north/-66712705</td>\n",
       "      <td>31.362600</td>\n",
       "      <td>-92.413430</td>\n",
       "      <td>Pizza Hut</td>\n",
       "      <td>71360</td>\n",
       "      <td>LA</td>\n",
       "      <td>http://www.pizzahut.com</td>\n",
       "    </tr>\n",
       "    <tr>\n",
       "      <th>26</th>\n",
       "      <td>1631 E Madison Ave</td>\n",
       "      <td>Bastrop</td>\n",
       "      <td>US</td>\n",
       "      <td>us/la/bastrop/1631emadisonave/1780593795</td>\n",
       "      <td>32.779920</td>\n",
       "      <td>-91.894770</td>\n",
       "      <td>Sonic Drive-In</td>\n",
       "      <td>71220</td>\n",
       "      <td>LA</td>\n",
       "      <td>https://locations.sonicdrivein.com/la/bastrop/...</td>\n",
       "    </tr>\n",
       "    <tr>\n",
       "      <th>27</th>\n",
       "      <td>301 S Lynn Riggs Blvd</td>\n",
       "      <td>Claremore</td>\n",
       "      <td>US</td>\n",
       "      <td>us/ok/claremore/301slynnriggsblvd/-1055723171</td>\n",
       "      <td>36.310690</td>\n",
       "      <td>-95.617590</td>\n",
       "      <td>Domino's Pizza</td>\n",
       "      <td>74017</td>\n",
       "      <td>OK</td>\n",
       "      <td>https://www.dominos.com/en/?redirect=homepage,...</td>\n",
       "    </tr>\n",
       "    <tr>\n",
       "      <th>28</th>\n",
       "      <td>601 E Lincolnway</td>\n",
       "      <td>Minerva</td>\n",
       "      <td>US</td>\n",
       "      <td>us/oh/minerva/601elincolnway/-1161002137</td>\n",
       "      <td>40.732000</td>\n",
       "      <td>-81.098120</td>\n",
       "      <td>McDonald's</td>\n",
       "      <td>44657</td>\n",
       "      <td>OH</td>\n",
       "      <td>http://www.mcdonalds.com,http://www.mcdonalds....</td>\n",
       "    </tr>\n",
       "    <tr>\n",
       "      <th>29</th>\n",
       "      <td>3211 S 4th St</td>\n",
       "      <td>Leavenworth</td>\n",
       "      <td>US</td>\n",
       "      <td>us/ks/leavenworth/3211s4thst/1780593795</td>\n",
       "      <td>39.285320</td>\n",
       "      <td>-94.904410</td>\n",
       "      <td>SONIC Drive In</td>\n",
       "      <td>66048</td>\n",
       "      <td>KS</td>\n",
       "      <td>https://locations.sonicdrivein.com/ks/leavenwo...</td>\n",
       "    </tr>\n",
       "    <tr>\n",
       "      <th>30</th>\n",
       "      <td>105 Business Loop W</td>\n",
       "      <td>Jamestown</td>\n",
       "      <td>US</td>\n",
       "      <td>us/nd/jamestown/105businessloopw/-864103396</td>\n",
       "      <td>46.898997</td>\n",
       "      <td>-98.707788</td>\n",
       "      <td>Taco Bell</td>\n",
       "      <td>58401</td>\n",
       "      <td>ND</td>\n",
       "      <td>http://www.tacobell.com,https://locations.taco...</td>\n",
       "    </tr>\n",
       "    <tr>\n",
       "      <th>31</th>\n",
       "      <td>1531 University Dr S</td>\n",
       "      <td>Fargo</td>\n",
       "      <td>US</td>\n",
       "      <td>us/nd/fargo/1531universitydrs/-1055723171</td>\n",
       "      <td>46.856590</td>\n",
       "      <td>-96.798630</td>\n",
       "      <td>Domino's Pizza</td>\n",
       "      <td>58103</td>\n",
       "      <td>ND</td>\n",
       "      <td>https://www.dominos.com/en/?redirect=homepage,...</td>\n",
       "    </tr>\n",
       "    <tr>\n",
       "      <th>32</th>\n",
       "      <td>718 10th St SE</td>\n",
       "      <td>Jamestown</td>\n",
       "      <td>US</td>\n",
       "      <td>us/nd/jamestown/71810thstse/-1009719089</td>\n",
       "      <td>46.898960</td>\n",
       "      <td>-98.698400</td>\n",
       "      <td>Taco John's</td>\n",
       "      <td>58401</td>\n",
       "      <td>ND</td>\n",
       "      <td>https://www.tacojohns.com,http://locations.tac...</td>\n",
       "    </tr>\n",
       "    <tr>\n",
       "      <th>33</th>\n",
       "      <td>1400 24th Ave SW</td>\n",
       "      <td>Minot</td>\n",
       "      <td>US</td>\n",
       "      <td>us/nd/minot/140024thavesw/-1161002137</td>\n",
       "      <td>48.208580</td>\n",
       "      <td>-101.312800</td>\n",
       "      <td>McDonald's</td>\n",
       "      <td>58701</td>\n",
       "      <td>ND</td>\n",
       "      <td>http://mcdonalds.com,http://www.mcdonalds.com/...</td>\n",
       "    </tr>\n",
       "    <tr>\n",
       "      <th>34</th>\n",
       "      <td>703 S Magnolia St</td>\n",
       "      <td>Woodville</td>\n",
       "      <td>US</td>\n",
       "      <td>us/tx/woodville/703smagnoliast/1832448210</td>\n",
       "      <td>30.768460</td>\n",
       "      <td>-94.414770</td>\n",
       "      <td>Whataburger</td>\n",
       "      <td>75979</td>\n",
       "      <td>TX</td>\n",
       "      <td>https://locations.whataburger.com/tx/woodville...</td>\n",
       "    </tr>\n",
       "    <tr>\n",
       "      <th>35</th>\n",
       "      <td>1535 S Broadway</td>\n",
       "      <td>Minot</td>\n",
       "      <td>US</td>\n",
       "      <td>us/nd/minot/1535sbroadway/-66712705</td>\n",
       "      <td>48.219459</td>\n",
       "      <td>-101.296022</td>\n",
       "      <td>Pizza Hut</td>\n",
       "      <td>58701</td>\n",
       "      <td>ND</td>\n",
       "      <td>http://www.pizzahut.com</td>\n",
       "    </tr>\n",
       "    <tr>\n",
       "      <th>36</th>\n",
       "      <td>775 S Main St</td>\n",
       "      <td>Smithfield</td>\n",
       "      <td>US</td>\n",
       "      <td>us/ut/smithfield/775smainst/-1055723171</td>\n",
       "      <td>41.820690</td>\n",
       "      <td>-111.833180</td>\n",
       "      <td>Domino's Pizza</td>\n",
       "      <td>84335</td>\n",
       "      <td>UT</td>\n",
       "      <td>https://www.dominos.com/en/?redirect=homepagea...</td>\n",
       "    </tr>\n",
       "    <tr>\n",
       "      <th>37</th>\n",
       "      <td>218 W Main St</td>\n",
       "      <td>Ada</td>\n",
       "      <td>US</td>\n",
       "      <td>us/ok/ada/218wmainst/-1173852384</td>\n",
       "      <td>34.774820</td>\n",
       "      <td>-96.681260</td>\n",
       "      <td>Hamburger King</td>\n",
       "      <td>74820</td>\n",
       "      <td>OK</td>\n",
       "      <td>NaN</td>\n",
       "    </tr>\n",
       "    <tr>\n",
       "      <th>38</th>\n",
       "      <td>3208 S Elm Pl</td>\n",
       "      <td>Broken Arrow</td>\n",
       "      <td>US</td>\n",
       "      <td>us/ok/brokenarrow/3208selmpl/1780593795</td>\n",
       "      <td>36.019480</td>\n",
       "      <td>-95.797560</td>\n",
       "      <td>SONIC Drive In</td>\n",
       "      <td>74012</td>\n",
       "      <td>OK</td>\n",
       "      <td>https://locations.sonicdrivein.com/ok/broken-a...</td>\n",
       "    </tr>\n",
       "    <tr>\n",
       "      <th>39</th>\n",
       "      <td>3056 Classen Blvd Unit A</td>\n",
       "      <td>Norman</td>\n",
       "      <td>US</td>\n",
       "      <td>us/ok/norman/3056classenblvdunita/-1055723171</td>\n",
       "      <td>35.181730</td>\n",
       "      <td>-97.417090</td>\n",
       "      <td>Domino's Pizza</td>\n",
       "      <td>73071</td>\n",
       "      <td>OK</td>\n",
       "      <td>https://www.dominos.com/en/?redirect=homepage,...</td>\n",
       "    </tr>\n",
       "    <tr>\n",
       "      <th>40</th>\n",
       "      <td>982 Macon St</td>\n",
       "      <td>Warner Robins</td>\n",
       "      <td>US</td>\n",
       "      <td>us/ga/warnerrobins/982maconst/-2061630068</td>\n",
       "      <td>32.594950</td>\n",
       "      <td>-83.583380</td>\n",
       "      <td>Burger King</td>\n",
       "      <td>31098</td>\n",
       "      <td>GA</td>\n",
       "      <td>http://www.bk.com,https://locations.bk.com/ga/...</td>\n",
       "    </tr>\n",
       "    <tr>\n",
       "      <th>41</th>\n",
       "      <td>6060 San Mateo Blvd NE</td>\n",
       "      <td>Albuquerque</td>\n",
       "      <td>US</td>\n",
       "      <td>us/nm/albuquerque/6060sanmateoblvdne/-2061630068</td>\n",
       "      <td>35.144456</td>\n",
       "      <td>-106.585927</td>\n",
       "      <td>Burger King</td>\n",
       "      <td>87109</td>\n",
       "      <td>NM</td>\n",
       "      <td>http://www.bk.com,https://locations.bk.com/nm/...</td>\n",
       "    </tr>\n",
       "    <tr>\n",
       "      <th>42</th>\n",
       "      <td>8401 Gateway Blvd W Ste M4</td>\n",
       "      <td>El Paso</td>\n",
       "      <td>US</td>\n",
       "      <td>us/tx/elpaso/8401gatewayblvdwstem4/-1161002137</td>\n",
       "      <td>31.774650</td>\n",
       "      <td>-106.380710</td>\n",
       "      <td>McDonalds</td>\n",
       "      <td>79925</td>\n",
       "      <td>TX</td>\n",
       "      <td>http://mcdonalds.com,http://www.mcdonalds.com/...</td>\n",
       "    </tr>\n",
       "    <tr>\n",
       "      <th>43</th>\n",
       "      <td>450 N Harrison Ave</td>\n",
       "      <td>Shawnee</td>\n",
       "      <td>US</td>\n",
       "      <td>us/ok/shawnee/450nharrisonave/1780593795</td>\n",
       "      <td>35.332520</td>\n",
       "      <td>-96.912220</td>\n",
       "      <td>SONIC Drive In</td>\n",
       "      <td>74801</td>\n",
       "      <td>OK</td>\n",
       "      <td>https://locations.sonicdrivein.com/ok/shawnee/...</td>\n",
       "    </tr>\n",
       "    <tr>\n",
       "      <th>44</th>\n",
       "      <td>9455 SW Barbur Blvd</td>\n",
       "      <td>Portland</td>\n",
       "      <td>US</td>\n",
       "      <td>us/or/portland/9455swbarburblvd/-863563290</td>\n",
       "      <td>45.457027</td>\n",
       "      <td>-122.713696</td>\n",
       "      <td>Taco Time</td>\n",
       "      <td>97219</td>\n",
       "      <td>OR</td>\n",
       "      <td>http://www.tacotime.com/stores/6254</td>\n",
       "    </tr>\n",
       "    <tr>\n",
       "      <th>45</th>\n",
       "      <td>351 River Hill Dr</td>\n",
       "      <td>Ashland</td>\n",
       "      <td>US</td>\n",
       "      <td>us/ky/ashland/351riverhilldr/-1161002137</td>\n",
       "      <td>38.485540</td>\n",
       "      <td>-82.658096</td>\n",
       "      <td>McDonald's</td>\n",
       "      <td>41101</td>\n",
       "      <td>KY</td>\n",
       "      <td>http://www.mcdonalds.com,http://www.mcdonalds....</td>\n",
       "    </tr>\n",
       "    <tr>\n",
       "      <th>46</th>\n",
       "      <td>18000 Bagley Rd</td>\n",
       "      <td>Cleveland</td>\n",
       "      <td>US</td>\n",
       "      <td>us/oh/cleveland/18000bagleyrd/-2061630068</td>\n",
       "      <td>41.373042</td>\n",
       "      <td>-81.826072</td>\n",
       "      <td>Burger King</td>\n",
       "      <td>44130</td>\n",
       "      <td>OH</td>\n",
       "      <td>http://www.bk.com</td>\n",
       "    </tr>\n",
       "    <tr>\n",
       "      <th>47</th>\n",
       "      <td>3700 N 1st Ave</td>\n",
       "      <td>Evansville</td>\n",
       "      <td>US</td>\n",
       "      <td>us/in/evansville/3700n1stave/-1161002137</td>\n",
       "      <td>38.013220</td>\n",
       "      <td>-87.575490</td>\n",
       "      <td>McDonald's</td>\n",
       "      <td>47710</td>\n",
       "      <td>IN</td>\n",
       "      <td>http://mcdonalds.com,http://www.mcdonalds.com/...</td>\n",
       "    </tr>\n",
       "    <tr>\n",
       "      <th>48</th>\n",
       "      <td>895 N Highway 77 Ste 300</td>\n",
       "      <td>Waxahachie</td>\n",
       "      <td>US</td>\n",
       "      <td>us/tx/waxahachie/895nhighway77ste300/-1947870258</td>\n",
       "      <td>32.412690</td>\n",
       "      <td>-96.842130</td>\n",
       "      <td>Jimmy John's</td>\n",
       "      <td>75165</td>\n",
       "      <td>TX</td>\n",
       "      <td>http://www.jimmyjohns.com</td>\n",
       "    </tr>\n",
       "    <tr>\n",
       "      <th>49</th>\n",
       "      <td>819 SW 19th St</td>\n",
       "      <td>Oklahoma City</td>\n",
       "      <td>US</td>\n",
       "      <td>us/ok/oklahomacity/819sw19thst/-1055723171</td>\n",
       "      <td>35.320260</td>\n",
       "      <td>-97.505360</td>\n",
       "      <td>Domino's Pizza</td>\n",
       "      <td>73160</td>\n",
       "      <td>OK</td>\n",
       "      <td>https://www.dominos.com/en/?redirect=homepage,...</td>\n",
       "    </tr>\n",
       "  </tbody>\n",
       "</table>\n",
       "</div>"
      ],
      "text/plain": [
       "                          address                    city country  \\\n",
       "0                     324 Main St                 Massena      US   \n",
       "1                 530 Clinton Ave  Washington Court House      US   \n",
       "2            408 Market Square Dr               Maysville      US   \n",
       "3           6098 State Highway 37                 Massena      US   \n",
       "4                 139 Columbus Rd                  Athens      US   \n",
       "5                  4182 Tonya Trl                Hamilton      US   \n",
       "6                   590 S Main St               Englewood      US   \n",
       "7               401 N Jennings St                  Saluda      US   \n",
       "8                 205 W Church St               Batesburg      US   \n",
       "9   2711 W. Kings Highway Ste. 18               Paragould      US   \n",
       "10                613 W Center St                Sheridan      US   \n",
       "11        512 Highway 425 S Lot B              Monticello      US   \n",
       "12                1535 NW 50th St           Oklahoma City      US   \n",
       "13            125 Towne Center Dr               Lexington      US   \n",
       "14                    66 14th St.               Tell City      US   \n",
       "15            301 University Blvd              Louisville      US   \n",
       "16             5812 NW Expressway           Oklahoma City      US   \n",
       "17            101 Thomas Garst Ln                  Leland      US   \n",
       "18           1111 New Pointe Blvd                  Leland      US   \n",
       "19   782 Old Hickory Blvd Ste 120               Brentwood      US   \n",
       "20              108 Village Rd NE                  Leland      US   \n",
       "21            1116 Old Highway 60             Hardinsburg      US   \n",
       "22            1423 Southwest Pkwy           Wichita Falls      US   \n",
       "23                 908 Padre Blvd      South Padre Island      US   \n",
       "24                1131n N Main St                   Miami      US   \n",
       "25             3401 Hwy 165 North               Pineville      US   \n",
       "26             1631 E Madison Ave                 Bastrop      US   \n",
       "27          301 S Lynn Riggs Blvd               Claremore      US   \n",
       "28               601 E Lincolnway                 Minerva      US   \n",
       "29                  3211 S 4th St             Leavenworth      US   \n",
       "30            105 Business Loop W               Jamestown      US   \n",
       "31           1531 University Dr S                   Fargo      US   \n",
       "32                 718 10th St SE               Jamestown      US   \n",
       "33               1400 24th Ave SW                   Minot      US   \n",
       "34              703 S Magnolia St               Woodville      US   \n",
       "35                1535 S Broadway                   Minot      US   \n",
       "36                  775 S Main St              Smithfield      US   \n",
       "37                  218 W Main St                     Ada      US   \n",
       "38                  3208 S Elm Pl            Broken Arrow      US   \n",
       "39       3056 Classen Blvd Unit A                  Norman      US   \n",
       "40                   982 Macon St           Warner Robins      US   \n",
       "41         6060 San Mateo Blvd NE             Albuquerque      US   \n",
       "42     8401 Gateway Blvd W Ste M4                 El Paso      US   \n",
       "43             450 N Harrison Ave                 Shawnee      US   \n",
       "44            9455 SW Barbur Blvd                Portland      US   \n",
       "45              351 River Hill Dr                 Ashland      US   \n",
       "46                18000 Bagley Rd               Cleveland      US   \n",
       "47                 3700 N 1st Ave              Evansville      US   \n",
       "48       895 N Highway 77 Ste 300              Waxahachie      US   \n",
       "49                 819 SW 19th St           Oklahoma City      US   \n",
       "\n",
       "                                                 keys   latitude   longitude  \\\n",
       "0                 us/ny/massena/324mainst/-1161002137  44.921300  -74.890210   \n",
       "1   us/oh/washingtoncourthouse/530clintonave/-7914...  39.532550  -83.445260   \n",
       "2        us/ky/maysville/408marketsquaredr/1051460804  38.627360  -83.791410   \n",
       "3        us/ny/massena/6098statehighway37/-1161002137  44.950080  -74.845530   \n",
       "4                us/oh/athens/139columbusrd/990890980  39.351550  -82.097280   \n",
       "5             us/oh/hamilton/4182tonyatrl/-1055723171  39.417600  -84.476410   \n",
       "6              us/oh/englewood/590smainst/-1055723171  39.869690  -84.293580   \n",
       "7             us/sc/saluda/401njenningsst/-1161002137  34.005980  -81.770400   \n",
       "8             us/sc/batesburg/205wchurchst/-791445730  33.913350  -81.533300   \n",
       "9    us/ar/paragould/2711wkingshighwayste18/-66712705  36.061070  -90.523250   \n",
       "10             us/ar/sheridan/613wcenterst/1780593795  34.306870  -92.407840   \n",
       "11    us/ar/monticello/512highway425slotb/-1055723171  33.619370  -91.802320   \n",
       "12        us/ok/oklahomacity/1535nw50thst/-1161002137  35.522340  -97.538200   \n",
       "13       us/ky/lexington/125townecenterdr/-1055723171  38.067530  -84.530430   \n",
       "14                 us/in/tellcity/6614thst/1516016543  37.941032  -86.762115   \n",
       "15     us/ky/louisville/301universityblvd/-1161002137  38.219990  -85.764824   \n",
       "16    us/ok/oklahomacity/5812nwexpressway/-1161002137  35.548150  -97.617170   \n",
       "17           us/nc/leland/101thomasgarstln/-864103396  34.233890  -77.995440   \n",
       "18         us/nc/leland/1111newpointeblvd/-1161002137  34.211880  -78.024540   \n",
       "19  us/tn/brentwood/782oldhickoryblvdste120/-72295...  36.042220  -86.779950   \n",
       "20            us/nc/leland/108villagerdne/-1161002137  34.234477  -78.000649   \n",
       "21     us/ky/hardinsburg/1116oldhighway60/-1161002137  37.792641  -86.492762   \n",
       "22   us/tx/wichitafalls/1423southwestpkwy/-1161002137  33.853710  -98.500650   \n",
       "23    us/tx/southpadreisland/908padreblvd/-1161002137  26.091050  -97.164300   \n",
       "24               us/ok/miami/1131nnmainst/-1161002137  36.888260  -94.877660   \n",
       "25          us/la/pineville/3401hwy165north/-66712705  31.362600  -92.413430   \n",
       "26           us/la/bastrop/1631emadisonave/1780593795  32.779920  -91.894770   \n",
       "27      us/ok/claremore/301slynnriggsblvd/-1055723171  36.310690  -95.617590   \n",
       "28           us/oh/minerva/601elincolnway/-1161002137  40.732000  -81.098120   \n",
       "29            us/ks/leavenworth/3211s4thst/1780593795  39.285320  -94.904410   \n",
       "30        us/nd/jamestown/105businessloopw/-864103396  46.898997  -98.707788   \n",
       "31          us/nd/fargo/1531universitydrs/-1055723171  46.856590  -96.798630   \n",
       "32            us/nd/jamestown/71810thstse/-1009719089  46.898960  -98.698400   \n",
       "33              us/nd/minot/140024thavesw/-1161002137  48.208580 -101.312800   \n",
       "34          us/tx/woodville/703smagnoliast/1832448210  30.768460  -94.414770   \n",
       "35                us/nd/minot/1535sbroadway/-66712705  48.219459 -101.296022   \n",
       "36            us/ut/smithfield/775smainst/-1055723171  41.820690 -111.833180   \n",
       "37                   us/ok/ada/218wmainst/-1173852384  34.774820  -96.681260   \n",
       "38            us/ok/brokenarrow/3208selmpl/1780593795  36.019480  -95.797560   \n",
       "39      us/ok/norman/3056classenblvdunita/-1055723171  35.181730  -97.417090   \n",
       "40          us/ga/warnerrobins/982maconst/-2061630068  32.594950  -83.583380   \n",
       "41   us/nm/albuquerque/6060sanmateoblvdne/-2061630068  35.144456 -106.585927   \n",
       "42     us/tx/elpaso/8401gatewayblvdwstem4/-1161002137  31.774650 -106.380710   \n",
       "43           us/ok/shawnee/450nharrisonave/1780593795  35.332520  -96.912220   \n",
       "44         us/or/portland/9455swbarburblvd/-863563290  45.457027 -122.713696   \n",
       "45           us/ky/ashland/351riverhilldr/-1161002137  38.485540  -82.658096   \n",
       "46          us/oh/cleveland/18000bagleyrd/-2061630068  41.373042  -81.826072   \n",
       "47           us/in/evansville/3700n1stave/-1161002137  38.013220  -87.575490   \n",
       "48   us/tx/waxahachie/895nhighway77ste300/-1947870258  32.412690  -96.842130   \n",
       "49         us/ok/oklahomacity/819sw19thst/-1055723171  35.320260  -97.505360   \n",
       "\n",
       "                   name postalCode province  \\\n",
       "0            McDonald's      13662       NY   \n",
       "1               Wendy's      43160       OH   \n",
       "2      Frisch's Big Boy      41056       KY   \n",
       "3            McDonald's      13662       NY   \n",
       "4       OMG! Rotisserie      45701       OH   \n",
       "5        Domino's Pizza      45011       OH   \n",
       "6        Domino's Pizza      45322       OH   \n",
       "7            McDonald's      29138       SC   \n",
       "8               Wendy's      29006       SC   \n",
       "9             Pizza Hut      72450       AR   \n",
       "10       SONIC Drive In      72150       AR   \n",
       "11       Domino's Pizza      71655       AR   \n",
       "12           McDonald's      73118       OK   \n",
       "13       Domino's Pizza      40511       KY   \n",
       "14   Long John Silver's      47586       IN   \n",
       "15           McDonald's      40208       KY   \n",
       "16           McDonald's      73132       OK   \n",
       "17            Taco Bell      28451       NC   \n",
       "18           McDonald's      28451       NC   \n",
       "19  Qdoba Mexican Grill      37027       TN   \n",
       "20           McDonald's      28451       NC   \n",
       "21           McDonald's      40143       KY   \n",
       "22           McDonald's      76302       TX   \n",
       "23           McDonald's      78597       TX   \n",
       "24           McDonald's      74354       OK   \n",
       "25            Pizza Hut      71360       LA   \n",
       "26       Sonic Drive-In      71220       LA   \n",
       "27       Domino's Pizza      74017       OK   \n",
       "28           McDonald's      44657       OH   \n",
       "29       SONIC Drive In      66048       KS   \n",
       "30            Taco Bell      58401       ND   \n",
       "31       Domino's Pizza      58103       ND   \n",
       "32          Taco John's      58401       ND   \n",
       "33           McDonald's      58701       ND   \n",
       "34          Whataburger      75979       TX   \n",
       "35            Pizza Hut      58701       ND   \n",
       "36       Domino's Pizza      84335       UT   \n",
       "37       Hamburger King      74820       OK   \n",
       "38       SONIC Drive In      74012       OK   \n",
       "39       Domino's Pizza      73071       OK   \n",
       "40          Burger King      31098       GA   \n",
       "41          Burger King      87109       NM   \n",
       "42            McDonalds      79925       TX   \n",
       "43       SONIC Drive In      74801       OK   \n",
       "44            Taco Time      97219       OR   \n",
       "45           McDonald's      41101       KY   \n",
       "46          Burger King      44130       OH   \n",
       "47           McDonald's      47710       IN   \n",
       "48         Jimmy John's      75165       TX   \n",
       "49       Domino's Pizza      73160       OK   \n",
       "\n",
       "                                             websites  \n",
       "0   http://mcdonalds.com,http://www.mcdonalds.com/...  \n",
       "1                               http://www.wendys.com  \n",
       "2   http://www.frischs.com,https://www.frischs.com...  \n",
       "3   http://mcdonalds.com,http://www.mcdonalds.com/...  \n",
       "4   http://www.omgrotisserie.com,http://omgrotisse...  \n",
       "5   https://www.dominos.com/en/?redirect=homepage,...  \n",
       "6   https://www.dominos.com/en/?redirect=homepagea...  \n",
       "7                            http://www.mcdonalds.com  \n",
       "8                               http://www.wendys.com  \n",
       "9                             http://www.pizzahut.com  \n",
       "10  https://locations.sonicdrivein.com/ar/sheridan...  \n",
       "11  https://www.dominos.com/en/?redirect=homepage,...  \n",
       "12  http://mcdonalds.com,http://www.mcdonalds.com/...  \n",
       "13  https://www.dominos.com/en/?redirect=homepagea...  \n",
       "14                           http://www.ljsilvers.com  \n",
       "15  http://mcdonalds.com,http://www.mcdonalds.com/...  \n",
       "16  http://mcdonalds.com,http://www.mcdonalds.com/...  \n",
       "17  http://www.tacobell.com,https://locations.taco...  \n",
       "18  http://mcdonalds.com,http://www.mcdonalds.com/...  \n",
       "19  http://www.qdoba.com,https://locations.qdoba.c...  \n",
       "20  http://mcdonalds.com,http://www.mcdonalds.com/...  \n",
       "21  http://mcdonalds.com,http://www.mcdonalds.com/...  \n",
       "22  http://www.mcdonalds.com/?cid=RF:YXT_FM:TP::Ye...  \n",
       "23  http://www.mcdonalds.com/?cid=RF:YXT_FM:TP::Ye...  \n",
       "24  http://www.mcdonalds.com/?cid=RF:YXT_FM:TP::Ye...  \n",
       "25                            http://www.pizzahut.com  \n",
       "26  https://locations.sonicdrivein.com/la/bastrop/...  \n",
       "27  https://www.dominos.com/en/?redirect=homepage,...  \n",
       "28  http://www.mcdonalds.com,http://www.mcdonalds....  \n",
       "29  https://locations.sonicdrivein.com/ks/leavenwo...  \n",
       "30  http://www.tacobell.com,https://locations.taco...  \n",
       "31  https://www.dominos.com/en/?redirect=homepage,...  \n",
       "32  https://www.tacojohns.com,http://locations.tac...  \n",
       "33  http://mcdonalds.com,http://www.mcdonalds.com/...  \n",
       "34  https://locations.whataburger.com/tx/woodville...  \n",
       "35                            http://www.pizzahut.com  \n",
       "36  https://www.dominos.com/en/?redirect=homepagea...  \n",
       "37                                                NaN  \n",
       "38  https://locations.sonicdrivein.com/ok/broken-a...  \n",
       "39  https://www.dominos.com/en/?redirect=homepage,...  \n",
       "40  http://www.bk.com,https://locations.bk.com/ga/...  \n",
       "41  http://www.bk.com,https://locations.bk.com/nm/...  \n",
       "42  http://mcdonalds.com,http://www.mcdonalds.com/...  \n",
       "43  https://locations.sonicdrivein.com/ok/shawnee/...  \n",
       "44                http://www.tacotime.com/stores/6254  \n",
       "45  http://www.mcdonalds.com,http://www.mcdonalds....  \n",
       "46                                  http://www.bk.com  \n",
       "47  http://mcdonalds.com,http://www.mcdonalds.com/...  \n",
       "48                          http://www.jimmyjohns.com  \n",
       "49  https://www.dominos.com/en/?redirect=homepage,...  "
      ]
     },
     "execution_count": 6,
     "metadata": {},
     "output_type": "execute_result"
    }
   ],
   "source": [
    "df.head(50)                                   #To get top 10 rows of data set"
   ]
  },
  {
   "cell_type": "markdown",
   "metadata": {},
   "source": [
    "<a id='section305'></a>"
   ]
  },
  {
   "cell_type": "markdown",
   "metadata": {},
   "source": [
    "<a id=section304></a>"
   ]
  },
  {
   "cell_type": "code",
   "execution_count": 7,
   "metadata": {},
   "outputs": [
    {
     "data": {
      "text/html": [
       "<div>\n",
       "<style scoped>\n",
       "    .dataframe tbody tr th:only-of-type {\n",
       "        vertical-align: middle;\n",
       "    }\n",
       "\n",
       "    .dataframe tbody tr th {\n",
       "        vertical-align: top;\n",
       "    }\n",
       "\n",
       "    .dataframe thead th {\n",
       "        text-align: right;\n",
       "    }\n",
       "</style>\n",
       "<table border=\"1\" class=\"dataframe\">\n",
       "  <thead>\n",
       "    <tr style=\"text-align: right;\">\n",
       "      <th></th>\n",
       "      <th>address</th>\n",
       "      <th>city</th>\n",
       "      <th>country</th>\n",
       "      <th>keys</th>\n",
       "      <th>latitude</th>\n",
       "      <th>longitude</th>\n",
       "      <th>name</th>\n",
       "      <th>postalCode</th>\n",
       "      <th>province</th>\n",
       "      <th>websites</th>\n",
       "    </tr>\n",
       "  </thead>\n",
       "  <tbody>\n",
       "    <tr>\n",
       "      <th>count</th>\n",
       "      <td>10000</td>\n",
       "      <td>10000</td>\n",
       "      <td>10000</td>\n",
       "      <td>10000</td>\n",
       "      <td>10000.000000</td>\n",
       "      <td>10000.000000</td>\n",
       "      <td>10000</td>\n",
       "      <td>10000</td>\n",
       "      <td>10000</td>\n",
       "      <td>9535</td>\n",
       "    </tr>\n",
       "    <tr>\n",
       "      <th>unique</th>\n",
       "      <td>9934</td>\n",
       "      <td>2775</td>\n",
       "      <td>1</td>\n",
       "      <td>10000</td>\n",
       "      <td>NaN</td>\n",
       "      <td>NaN</td>\n",
       "      <td>548</td>\n",
       "      <td>5289</td>\n",
       "      <td>52</td>\n",
       "      <td>3821</td>\n",
       "    </tr>\n",
       "    <tr>\n",
       "      <th>top</th>\n",
       "      <td>3900 Las Vegas Blvd S</td>\n",
       "      <td>Cincinnati</td>\n",
       "      <td>US</td>\n",
       "      <td>us/ca/placentia/797worangethorpeave/-230519289</td>\n",
       "      <td>NaN</td>\n",
       "      <td>NaN</td>\n",
       "      <td>McDonald's</td>\n",
       "      <td>57701</td>\n",
       "      <td>CA</td>\n",
       "      <td>http://mcdonalds.com,http://www.mcdonalds.com/...</td>\n",
       "    </tr>\n",
       "    <tr>\n",
       "      <th>freq</th>\n",
       "      <td>3</td>\n",
       "      <td>119</td>\n",
       "      <td>10000</td>\n",
       "      <td>1</td>\n",
       "      <td>NaN</td>\n",
       "      <td>NaN</td>\n",
       "      <td>1886</td>\n",
       "      <td>23</td>\n",
       "      <td>676</td>\n",
       "      <td>1074</td>\n",
       "    </tr>\n",
       "    <tr>\n",
       "      <th>mean</th>\n",
       "      <td>NaN</td>\n",
       "      <td>NaN</td>\n",
       "      <td>NaN</td>\n",
       "      <td>NaN</td>\n",
       "      <td>37.552195</td>\n",
       "      <td>-91.056132</td>\n",
       "      <td>NaN</td>\n",
       "      <td>NaN</td>\n",
       "      <td>NaN</td>\n",
       "      <td>NaN</td>\n",
       "    </tr>\n",
       "    <tr>\n",
       "      <th>std</th>\n",
       "      <td>NaN</td>\n",
       "      <td>NaN</td>\n",
       "      <td>NaN</td>\n",
       "      <td>NaN</td>\n",
       "      <td>5.050275</td>\n",
       "      <td>18.556339</td>\n",
       "      <td>NaN</td>\n",
       "      <td>NaN</td>\n",
       "      <td>NaN</td>\n",
       "      <td>NaN</td>\n",
       "    </tr>\n",
       "    <tr>\n",
       "      <th>min</th>\n",
       "      <td>NaN</td>\n",
       "      <td>NaN</td>\n",
       "      <td>NaN</td>\n",
       "      <td>NaN</td>\n",
       "      <td>-6.244273</td>\n",
       "      <td>-159.378915</td>\n",
       "      <td>NaN</td>\n",
       "      <td>NaN</td>\n",
       "      <td>NaN</td>\n",
       "      <td>NaN</td>\n",
       "    </tr>\n",
       "    <tr>\n",
       "      <th>25%</th>\n",
       "      <td>NaN</td>\n",
       "      <td>NaN</td>\n",
       "      <td>NaN</td>\n",
       "      <td>NaN</td>\n",
       "      <td>34.028706</td>\n",
       "      <td>-97.412631</td>\n",
       "      <td>NaN</td>\n",
       "      <td>NaN</td>\n",
       "      <td>NaN</td>\n",
       "      <td>NaN</td>\n",
       "    </tr>\n",
       "    <tr>\n",
       "      <th>50%</th>\n",
       "      <td>NaN</td>\n",
       "      <td>NaN</td>\n",
       "      <td>NaN</td>\n",
       "      <td>NaN</td>\n",
       "      <td>38.298217</td>\n",
       "      <td>-87.660930</td>\n",
       "      <td>NaN</td>\n",
       "      <td>NaN</td>\n",
       "      <td>NaN</td>\n",
       "      <td>NaN</td>\n",
       "    </tr>\n",
       "    <tr>\n",
       "      <th>75%</th>\n",
       "      <td>NaN</td>\n",
       "      <td>NaN</td>\n",
       "      <td>NaN</td>\n",
       "      <td>NaN</td>\n",
       "      <td>41.116765</td>\n",
       "      <td>-81.458351</td>\n",
       "      <td>NaN</td>\n",
       "      <td>NaN</td>\n",
       "      <td>NaN</td>\n",
       "      <td>NaN</td>\n",
       "    </tr>\n",
       "    <tr>\n",
       "      <th>max</th>\n",
       "      <td>NaN</td>\n",
       "      <td>NaN</td>\n",
       "      <td>NaN</td>\n",
       "      <td>NaN</td>\n",
       "      <td>64.840240</td>\n",
       "      <td>123.012361</td>\n",
       "      <td>NaN</td>\n",
       "      <td>NaN</td>\n",
       "      <td>NaN</td>\n",
       "      <td>NaN</td>\n",
       "    </tr>\n",
       "  </tbody>\n",
       "</table>\n",
       "</div>"
      ],
      "text/plain": [
       "                      address        city country  \\\n",
       "count                   10000       10000   10000   \n",
       "unique                   9934        2775       1   \n",
       "top     3900 Las Vegas Blvd S  Cincinnati      US   \n",
       "freq                        3         119   10000   \n",
       "mean                      NaN         NaN     NaN   \n",
       "std                       NaN         NaN     NaN   \n",
       "min                       NaN         NaN     NaN   \n",
       "25%                       NaN         NaN     NaN   \n",
       "50%                       NaN         NaN     NaN   \n",
       "75%                       NaN         NaN     NaN   \n",
       "max                       NaN         NaN     NaN   \n",
       "\n",
       "                                                  keys      latitude  \\\n",
       "count                                            10000  10000.000000   \n",
       "unique                                           10000           NaN   \n",
       "top     us/ca/placentia/797worangethorpeave/-230519289           NaN   \n",
       "freq                                                 1           NaN   \n",
       "mean                                               NaN     37.552195   \n",
       "std                                                NaN      5.050275   \n",
       "min                                                NaN     -6.244273   \n",
       "25%                                                NaN     34.028706   \n",
       "50%                                                NaN     38.298217   \n",
       "75%                                                NaN     41.116765   \n",
       "max                                                NaN     64.840240   \n",
       "\n",
       "           longitude        name postalCode province  \\\n",
       "count   10000.000000       10000      10000    10000   \n",
       "unique           NaN         548       5289       52   \n",
       "top              NaN  McDonald's      57701       CA   \n",
       "freq             NaN        1886         23      676   \n",
       "mean      -91.056132         NaN        NaN      NaN   \n",
       "std        18.556339         NaN        NaN      NaN   \n",
       "min      -159.378915         NaN        NaN      NaN   \n",
       "25%       -97.412631         NaN        NaN      NaN   \n",
       "50%       -87.660930         NaN        NaN      NaN   \n",
       "75%       -81.458351         NaN        NaN      NaN   \n",
       "max       123.012361         NaN        NaN      NaN   \n",
       "\n",
       "                                                 websites  \n",
       "count                                                9535  \n",
       "unique                                               3821  \n",
       "top     http://mcdonalds.com,http://www.mcdonalds.com/...  \n",
       "freq                                                 1074  \n",
       "mean                                                  NaN  \n",
       "std                                                   NaN  \n",
       "min                                                   NaN  \n",
       "25%                                                   NaN  \n",
       "50%                                                   NaN  \n",
       "75%                                                   NaN  \n",
       "max                                                   NaN  "
      ]
     },
     "execution_count": 7,
     "metadata": {},
     "output_type": "execute_result"
    }
   ],
   "source": [
    "df.describe(include = 'all')  "
   ]
  },
  {
   "cell_type": "markdown",
   "metadata": {},
   "source": [
    "### Observations:\n",
    "\n",
    " We can see from the 1st row only missing values are present in website column. For the same we need to put the valid data or clean the data where necessary.We have done this in section below. Most of the columns are non numeric except postal code,latitude and longitude. These are specific for each location."
   ]
  },
  {
   "cell_type": "markdown",
   "metadata": {},
   "source": [
    "<a id=section306></a>"
   ]
  },
  {
   "cell_type": "code",
   "execution_count": 8,
   "metadata": {},
   "outputs": [
    {
     "data": {
      "text/html": [
       "<div>\n",
       "<style scoped>\n",
       "    .dataframe tbody tr th:only-of-type {\n",
       "        vertical-align: middle;\n",
       "    }\n",
       "\n",
       "    .dataframe tbody tr th {\n",
       "        vertical-align: top;\n",
       "    }\n",
       "\n",
       "    .dataframe thead th {\n",
       "        text-align: right;\n",
       "    }\n",
       "</style>\n",
       "<table border=\"1\" class=\"dataframe\">\n",
       "  <thead>\n",
       "    <tr style=\"text-align: right;\">\n",
       "      <th></th>\n",
       "      <th>address</th>\n",
       "      <th>city</th>\n",
       "      <th>country</th>\n",
       "      <th>keys</th>\n",
       "      <th>latitude</th>\n",
       "      <th>longitude</th>\n",
       "      <th>name</th>\n",
       "      <th>postalCode</th>\n",
       "      <th>province</th>\n",
       "      <th>websites</th>\n",
       "    </tr>\n",
       "  </thead>\n",
       "  <tbody>\n",
       "    <tr>\n",
       "      <th>9198</th>\n",
       "      <td>5710 N Academy Blvd</td>\n",
       "      <td>Colorado Springs</td>\n",
       "      <td>US</td>\n",
       "      <td>us/spgs/coloradosprings/5710nacademyblvd/93075755</td>\n",
       "      <td>38.913264</td>\n",
       "      <td>-104.788447</td>\n",
       "      <td>Arby's</td>\n",
       "      <td>80907</td>\n",
       "      <td>Co Spgs</td>\n",
       "      <td>http://arbys.com</td>\n",
       "    </tr>\n",
       "    <tr>\n",
       "      <th>8712</th>\n",
       "      <td>1243 Austin Hwy</td>\n",
       "      <td>San Antonio</td>\n",
       "      <td>US</td>\n",
       "      <td>us/tx/sanantonio/1243austinhwy/1832448210</td>\n",
       "      <td>29.488710</td>\n",
       "      <td>-98.444700</td>\n",
       "      <td>Whataburger</td>\n",
       "      <td>78209</td>\n",
       "      <td>TX</td>\n",
       "      <td>https://locations.whataburger.com/tx/san-anton...</td>\n",
       "    </tr>\n",
       "    <tr>\n",
       "      <th>7447</th>\n",
       "      <td>6618 Sawmill Rd</td>\n",
       "      <td>Columbus</td>\n",
       "      <td>US</td>\n",
       "      <td>us/oh/columbus/6618sawmillrd/-1947870258</td>\n",
       "      <td>40.102720</td>\n",
       "      <td>-83.090530</td>\n",
       "      <td>Jimmy John's</td>\n",
       "      <td>43235</td>\n",
       "      <td>OH</td>\n",
       "      <td>http://www.jimmyjohns.com,http://jimmyjohns.com</td>\n",
       "    </tr>\n",
       "    <tr>\n",
       "      <th>9028</th>\n",
       "      <td>726 SW Federal Hwy</td>\n",
       "      <td>Stuart</td>\n",
       "      <td>US</td>\n",
       "      <td>us/fl/stuart/726swfederalhwy/-791445730</td>\n",
       "      <td>27.192845</td>\n",
       "      <td>-80.256347</td>\n",
       "      <td>Wendy's</td>\n",
       "      <td>34994</td>\n",
       "      <td>FL</td>\n",
       "      <td>http://www.wendys.com</td>\n",
       "    </tr>\n",
       "    <tr>\n",
       "      <th>9073</th>\n",
       "      <td>2600 Alverado</td>\n",
       "      <td>San Leandro</td>\n",
       "      <td>US</td>\n",
       "      <td>us/ca/sanleandro/2600alverado/729119187</td>\n",
       "      <td>37.710784</td>\n",
       "      <td>-122.156058</td>\n",
       "      <td>Fosters Freeze</td>\n",
       "      <td>94577</td>\n",
       "      <td>CA</td>\n",
       "      <td>http://fostersfreeze.com</td>\n",
       "    </tr>\n",
       "    <tr>\n",
       "      <th>4844</th>\n",
       "      <td>516 Broadway</td>\n",
       "      <td>Bayonne</td>\n",
       "      <td>US</td>\n",
       "      <td>us/nj/bayonne/516broadway/106088</td>\n",
       "      <td>40.664500</td>\n",
       "      <td>-74.117500</td>\n",
       "      <td>KFC</td>\n",
       "      <td>7002</td>\n",
       "      <td>NJ</td>\n",
       "      <td>http://www.kfc.com</td>\n",
       "    </tr>\n",
       "    <tr>\n",
       "      <th>874</th>\n",
       "      <td>3213 Princeton Rd</td>\n",
       "      <td>Hamilton</td>\n",
       "      <td>US</td>\n",
       "      <td>us/oh/hamilton/3213princetonrd/-791445730</td>\n",
       "      <td>39.390460</td>\n",
       "      <td>-84.508200</td>\n",
       "      <td>Wendy's</td>\n",
       "      <td>45011</td>\n",
       "      <td>OH</td>\n",
       "      <td>https://locations.wendys.com/indian-springs-oh...</td>\n",
       "    </tr>\n",
       "    <tr>\n",
       "      <th>1804</th>\n",
       "      <td>2080 County Road C W</td>\n",
       "      <td>Saint Paul</td>\n",
       "      <td>US</td>\n",
       "      <td>us/mn/saintpaul/2080countyroadcw/-2061630068</td>\n",
       "      <td>45.020170</td>\n",
       "      <td>-93.188020</td>\n",
       "      <td>Burger King</td>\n",
       "      <td>55113</td>\n",
       "      <td>MN</td>\n",
       "      <td>https://locations.bk.com/mn/roseville/2080-wes...</td>\n",
       "    </tr>\n",
       "    <tr>\n",
       "      <th>6825</th>\n",
       "      <td>19480 Van Dyke</td>\n",
       "      <td>Detroit</td>\n",
       "      <td>US</td>\n",
       "      <td>us/mi/detroit/19480vandyke/-1161002137</td>\n",
       "      <td>42.440867</td>\n",
       "      <td>-83.023911</td>\n",
       "      <td>McDonald's</td>\n",
       "      <td>48234</td>\n",
       "      <td>MI</td>\n",
       "      <td>http://mcdonalds.com</td>\n",
       "    </tr>\n",
       "    <tr>\n",
       "      <th>4908</th>\n",
       "      <td>1228 Park Ave</td>\n",
       "      <td>Meadville</td>\n",
       "      <td>US</td>\n",
       "      <td>us/pa/meadville/1228parkave/-864103396</td>\n",
       "      <td>41.630300</td>\n",
       "      <td>-80.155980</td>\n",
       "      <td>Taco Bell</td>\n",
       "      <td>16335</td>\n",
       "      <td>PA</td>\n",
       "      <td>http://www.tacobell.com,https://locations.taco...</td>\n",
       "    </tr>\n",
       "  </tbody>\n",
       "</table>\n",
       "</div>"
      ],
      "text/plain": [
       "                   address              city country  \\\n",
       "9198   5710 N Academy Blvd  Colorado Springs      US   \n",
       "8712       1243 Austin Hwy       San Antonio      US   \n",
       "7447       6618 Sawmill Rd          Columbus      US   \n",
       "9028    726 SW Federal Hwy            Stuart      US   \n",
       "9073         2600 Alverado       San Leandro      US   \n",
       "4844          516 Broadway           Bayonne      US   \n",
       "874      3213 Princeton Rd          Hamilton      US   \n",
       "1804  2080 County Road C W        Saint Paul      US   \n",
       "6825        19480 Van Dyke           Detroit      US   \n",
       "4908         1228 Park Ave         Meadville      US   \n",
       "\n",
       "                                                   keys   latitude  \\\n",
       "9198  us/spgs/coloradosprings/5710nacademyblvd/93075755  38.913264   \n",
       "8712          us/tx/sanantonio/1243austinhwy/1832448210  29.488710   \n",
       "7447           us/oh/columbus/6618sawmillrd/-1947870258  40.102720   \n",
       "9028            us/fl/stuart/726swfederalhwy/-791445730  27.192845   \n",
       "9073            us/ca/sanleandro/2600alverado/729119187  37.710784   \n",
       "4844                   us/nj/bayonne/516broadway/106088  40.664500   \n",
       "874           us/oh/hamilton/3213princetonrd/-791445730  39.390460   \n",
       "1804       us/mn/saintpaul/2080countyroadcw/-2061630068  45.020170   \n",
       "6825             us/mi/detroit/19480vandyke/-1161002137  42.440867   \n",
       "4908             us/pa/meadville/1228parkave/-864103396  41.630300   \n",
       "\n",
       "       longitude            name postalCode province  \\\n",
       "9198 -104.788447          Arby's      80907  Co Spgs   \n",
       "8712  -98.444700     Whataburger      78209       TX   \n",
       "7447  -83.090530    Jimmy John's      43235       OH   \n",
       "9028  -80.256347         Wendy's      34994       FL   \n",
       "9073 -122.156058  Fosters Freeze      94577       CA   \n",
       "4844  -74.117500             KFC       7002       NJ   \n",
       "874   -84.508200         Wendy's      45011       OH   \n",
       "1804  -93.188020     Burger King      55113       MN   \n",
       "6825  -83.023911      McDonald's      48234       MI   \n",
       "4908  -80.155980       Taco Bell      16335       PA   \n",
       "\n",
       "                                               websites  \n",
       "9198                                   http://arbys.com  \n",
       "8712  https://locations.whataburger.com/tx/san-anton...  \n",
       "7447    http://www.jimmyjohns.com,http://jimmyjohns.com  \n",
       "9028                              http://www.wendys.com  \n",
       "9073                           http://fostersfreeze.com  \n",
       "4844                                 http://www.kfc.com  \n",
       "874   https://locations.wendys.com/indian-springs-oh...  \n",
       "1804  https://locations.bk.com/mn/roseville/2080-wes...  \n",
       "6825                               http://mcdonalds.com  \n",
       "4908  http://www.tacobell.com,https://locations.taco...  "
      ]
     },
     "execution_count": 8,
     "metadata": {},
     "output_type": "execute_result"
    }
   ],
   "source": [
    "df.sample(10)"
   ]
  },
  {
   "cell_type": "markdown",
   "metadata": {},
   "source": [
    "<a id=section307></a>"
   ]
  },
  {
   "cell_type": "code",
   "execution_count": 10,
   "metadata": {},
   "outputs": [],
   "source": [
    "import pandas_profiling  as pnd_prof\n",
    "profile= pnd_prof.ProfileReport(df)\n",
    "profile.to_file(outputfile=\"fastfoodRestDataBeforeProcessing.html\")"
   ]
  },
  {
   "cell_type": "markdown",
   "metadata": {},
   "source": [
    "<a id=section308></a>"
   ]
  },
  {
   "cell_type": "markdown",
   "metadata": {},
   "source": [
    "### Initial Observation:\n",
    "\n",
    "Summary of data types in this dataset:\n",
    "\n",
    "- <em> Numeric (Float)</em>: Latitude ,Longitude    \n",
    "- <em> Object</em>: Everything else\n",
    "\n",
    "- <strong>address</strong>:  address are mostly distinct and it is normal.         \n",
    "- <strong>city</strong>:     No missing values. 2775 distinct cities are there.                 \n",
    "- <strong>Country</strong>:  No missing values. Only value is 'US'.                     \n",
    "- <strong>Name</strong>:     No missing values. 548 distinct values. We need to check if distinct values are correct or wrong.\n",
    "    \n",
    "- <strong>Postal code</strong>: No missing values. 5289 distinct values.              \n",
    "- <strong>province</strong>: No missing values. 52 distinct values.                    \n",
    "- <strong>websites</strong>: 465 missing values are there. For the same we need to put the valid data or clean the data.        \n",
    "\n",
    "\n"
   ]
  },
  {
   "cell_type": "code",
   "execution_count": 4,
   "metadata": {},
   "outputs": [
    {
     "name": "stdout",
     "output_type": "stream",
     "text": [
      "            Total  Percent\n",
      "websites      465   0.0465\n",
      "province        0   0.0000\n",
      "postalCode      0   0.0000\n",
      "name            0   0.0000\n",
      "longitude       0   0.0000\n",
      "latitude        0   0.0000\n",
      "keys            0   0.0000\n",
      "country         0   0.0000\n",
      "city            0   0.0000\n",
      "address         0   0.0000\n"
     ]
    }
   ],
   "source": [
    "Total = df.isnull().sum().sort_values(ascending=False)     # Missing values\n",
    "#total\n",
    "Percent= (df.isnull().sum()/df.isnull().count().sort_values()).sort_values(ascending=False)\n",
    "Missing_data= pnd.concat([Total,Percent],axis=1,keys=['Total','Percent'])\n",
    "print(Missing_data)"
   ]
  },
  {
   "cell_type": "code",
   "execution_count": 5,
   "metadata": {},
   "outputs": [
    {
     "name": "stdout",
     "output_type": "stream",
     "text": [
      "[\"McDonald's\" 'McDonalds' \"Mcdonald's\" \"Mc Donald's\" 'Mcdonalds'\n",
      " 'Mc Donalds' 'McDonald’s']\n"
     ]
    }
   ],
   "source": [
    "df_mcDonald= df[df['keys'].str.contains(\"1161002137\")==True]    # data with unique key for McDonald's\n",
    "McDname= df_mcDonald.name.unique()                              # How many types of  names are there for McDonald's?\n",
    "print(McDname)"
   ]
  },
  {
   "cell_type": "code",
   "execution_count": 6,
   "metadata": {},
   "outputs": [
    {
     "name": "stdout",
     "output_type": "stream",
     "text": [
      "['KFC - Kentucky Fried Chicken' 'Kentucky Fried Chicken'\n",
      " 'Kfc - Kentucky Fried Chicken']\n"
     ]
    }
   ],
   "source": [
    "df_kfc= df[df['name'].str.contains(\"Kentucky\")==True]               #How many types of names present for KFC\n",
    "Kfcname= df_kfc.name.unique()\n",
    "print(Kfcname)"
   ]
  },
  {
   "cell_type": "markdown",
   "metadata": {},
   "source": [
    "<a id=section309></a>"
   ]
  },
  {
   "cell_type": "markdown",
   "metadata": {},
   "source": [
    "### Final Observation:"
   ]
  },
  {
   "cell_type": "markdown",
   "metadata": {},
   "source": [
    "1. NaN values in 'websites' field need to be filled up with correct values those are available in other rows of the data set.\n",
    "2. Same restaurant have different values in 'name' field that need to be ractified."
   ]
  },
  {
   "cell_type": "markdown",
   "metadata": {},
   "source": [
    "<a id=section4></a>"
   ]
  },
  {
   "cell_type": "markdown",
   "metadata": {},
   "source": [
    "### Data Normalisation:"
   ]
  },
  {
   "cell_type": "markdown",
   "metadata": {},
   "source": [
    "<a id=section401></a>"
   ]
  },
  {
   "cell_type": "markdown",
   "metadata": {},
   "source": [
    "### Name field data correction:"
   ]
  },
  {
   "cell_type": "code",
   "execution_count": 7,
   "metadata": {},
   "outputs": [
    {
     "name": "stdout",
     "output_type": "stream",
     "text": [
      "[\"McDonald's\"]\n"
     ]
    }
   ],
   "source": [
    "for (row, col) in df.iterrows():                                        # Updated with an unique name for Mcdonald's\n",
    "        \n",
    "    if df.name.iloc[row] in McDname:\n",
    "        df['name'].replace(to_replace= df.name.iloc[row], value=\"McDonald's\", inplace=True)\n",
    "        \n",
    "print(df.name[df['keys'].str.contains(\"1161002137\")==True].unique())"
   ]
  },
  {
   "cell_type": "code",
   "execution_count": 8,
   "metadata": {},
   "outputs": [
    {
     "name": "stdout",
     "output_type": "stream",
     "text": [
      "['KFC' 'KFC / Taco Bell' 'KFC/Taco Bell' 'KFC / A&W']\n"
     ]
    }
   ],
   "source": [
    "df_kfc= df[df['name'].str.contains(\"Kentucky\")==True]               # Updated with an unique name for KFC\n",
    "Kfcname= df_kfc.name.unique()\n",
    "for (row, col) in df.iterrows():\n",
    "        \n",
    "    if df.name.iloc[row] in Kfcname:\n",
    "        df['name'].replace(to_replace= df.name.iloc[row], value=\"KFC\", inplace=True)\n",
    "        \n",
    "print(df.name[df['name'].str.contains(\"KFC\")==True].unique())"
   ]
  },
  {
   "cell_type": "markdown",
   "metadata": {},
   "source": [
    "Observation: Still we can see some confusing names are there for KFC. In the name both KFC and Taco Bell are there for these rows. We need to rectify the name based on the other data present in the respective rows."
   ]
  },
  {
   "cell_type": "code",
   "execution_count": 9,
   "metadata": {},
   "outputs": [
    {
     "data": {
      "text/html": [
       "<div>\n",
       "<style scoped>\n",
       "    .dataframe tbody tr th:only-of-type {\n",
       "        vertical-align: middle;\n",
       "    }\n",
       "\n",
       "    .dataframe tbody tr th {\n",
       "        vertical-align: top;\n",
       "    }\n",
       "\n",
       "    .dataframe thead th {\n",
       "        text-align: right;\n",
       "    }\n",
       "</style>\n",
       "<table border=\"1\" class=\"dataframe\">\n",
       "  <thead>\n",
       "    <tr style=\"text-align: right;\">\n",
       "      <th></th>\n",
       "      <th>name</th>\n",
       "      <th>websites</th>\n",
       "    </tr>\n",
       "  </thead>\n",
       "  <tbody>\n",
       "    <tr>\n",
       "      <th>546</th>\n",
       "      <td>KFC / Taco Bell</td>\n",
       "      <td>http://www.kfc.com</td>\n",
       "    </tr>\n",
       "    <tr>\n",
       "      <th>3062</th>\n",
       "      <td>KFC / Taco Bell</td>\n",
       "      <td>http://www.tacobell.com</td>\n",
       "    </tr>\n",
       "    <tr>\n",
       "      <th>6212</th>\n",
       "      <td>KFC/Taco Bell</td>\n",
       "      <td>http://www.kfc.com</td>\n",
       "    </tr>\n",
       "    <tr>\n",
       "      <th>6958</th>\n",
       "      <td>KFC / Taco Bell</td>\n",
       "      <td>http://www.kfc.com,http://kfc.com</td>\n",
       "    </tr>\n",
       "    <tr>\n",
       "      <th>7105</th>\n",
       "      <td>KFC/Taco Bell</td>\n",
       "      <td>http://www.kfc.com,http://kfc.com</td>\n",
       "    </tr>\n",
       "  </tbody>\n",
       "</table>\n",
       "</div>"
      ],
      "text/plain": [
       "                 name                           websites\n",
       "546   KFC / Taco Bell                 http://www.kfc.com\n",
       "3062  KFC / Taco Bell            http://www.tacobell.com\n",
       "6212    KFC/Taco Bell                 http://www.kfc.com\n",
       "6958  KFC / Taco Bell  http://www.kfc.com,http://kfc.com\n",
       "7105    KFC/Taco Bell  http://www.kfc.com,http://kfc.com"
      ]
     },
     "execution_count": 9,
     "metadata": {},
     "output_type": "execute_result"
    }
   ],
   "source": [
    "df[['name','websites']][df['keys'].str.contains(\"1278244220\")==True]  # Name and websites for those rows"
   ]
  },
  {
   "cell_type": "markdown",
   "metadata": {},
   "source": [
    "Based on the websites description, we can conclude and modify the following\n",
    "-<br>http://www.kfc.com</br>  should be for KFC\n",
    "-<br>http://www.tacobell.com should be for Taco Bell</br>\n"
   ]
  },
  {
   "cell_type": "code",
   "execution_count": 10,
   "metadata": {},
   "outputs": [
    {
     "name": "stdout",
     "output_type": "stream",
     "text": [
      "['KFC' 'KFC / A&W']\n"
     ]
    }
   ],
   "source": [
    "df['name'].replace(to_replace= df.name.iloc[546], value=\"KFC\", inplace=True)   #Replace with proper value\n",
    "df['name'].replace(to_replace= df.name.iloc[3062], value=\"Taco Bell\", inplace=True)\n",
    "df['name'].replace(to_replace= df.name.iloc[6212], value=\"KFC\", inplace=True)\n",
    "df['name'].replace(to_replace= df.name.iloc[6958], value=\"KFC\", inplace=True)\n",
    "df['name'].replace(to_replace= df.name.iloc[7105], value=\"KFC\", inplace=True)\n",
    "print(df.name[df['name'].str.contains(\"KF\")==True].unique())\n"
   ]
  },
  {
   "cell_type": "code",
   "execution_count": 11,
   "metadata": {},
   "outputs": [
    {
     "name": "stdout",
     "output_type": "stream",
     "text": [
      "           name websites\n",
      "8023  KFC / A&W      NaN\n"
     ]
    }
   ],
   "source": [
    "print(df[['name','websites']][df['name'].str.contains(\"KFC / A&W\")==True])  "
   ]
  },
  {
   "cell_type": "code",
   "execution_count": 12,
   "metadata": {},
   "outputs": [
    {
     "name": "stdout",
     "output_type": "stream",
     "text": [
      "['KFC']\n"
     ]
    }
   ],
   "source": [
    "#From the KFC/A&W details it is difficult to predict the actual name. so data row needs to be removed.\n",
    "df.drop(df.index[[8023]],inplace=True)\n",
    "print(df.name[df['name'].str.contains(\"KF\")==True].unique())"
   ]
  },
  {
   "cell_type": "code",
   "execution_count": 13,
   "metadata": {},
   "outputs": [
    {
     "name": "stdout",
     "output_type": "stream",
     "text": [
      "['KFC' 'Hamburger King' 'Burger King' 'Popeyes Louisiana Kitchen'\n",
      " 'Amigos/Kings Classic' 'Krystal' \"Kasa's Pizza\" 'Kum & Go' 'Kfc'\n",
      " \"Kenny's Drive-In\" \"Popeye's Louisiana Kitchen\" 'Kum Go' 'Smoothie King'\n",
      " 'China King' 'Mariu Kebabberia Gastronomica' 'Kettle Restaurant'\n",
      " 'Gyros Kings' \"Kerby's Koney Island\" 'Tellers Tap Room & Kitchen'\n",
      " 'Burger King Salou' \"Kam's Chop Suey\" 'Kennedy Fried Chicken & Pizza'\n",
      " 'King Grill' 'Kim Lee Fast Food' 'China King Restaurant' 'B K'\n",
      " 'Kings Contrivance Jewelers']\n"
     ]
    }
   ],
   "source": [
    "print(df.name[df['name'].str.contains(\"K\")==True].unique()) # Unique name starts with K"
   ]
  },
  {
   "cell_type": "markdown",
   "metadata": {},
   "source": [
    "### Observation: \n",
    "Looks like 'KFC' and 'Kfc' are still there in diffrent rows. So Kfc needs to be convrted to KFC."
   ]
  },
  {
   "cell_type": "code",
   "execution_count": 14,
   "metadata": {},
   "outputs": [
    {
     "data": {
      "text/plain": [
       "20"
      ]
     },
     "execution_count": 14,
     "metadata": {},
     "output_type": "execute_result"
    }
   ],
   "source": [
    "len(df[['name','websites']][df['name'].str.contains(\"Kfc\")==True]) # How many records are there with name Kfc"
   ]
  },
  {
   "cell_type": "code",
   "execution_count": 15,
   "metadata": {},
   "outputs": [
    {
     "ename": "IndexError",
     "evalue": "single positional indexer is out-of-bounds",
     "output_type": "error",
     "traceback": [
      "\u001b[1;31m---------------------------------------------------------------------------\u001b[0m",
      "\u001b[1;31mIndexError\u001b[0m                                Traceback (most recent call last)",
      "\u001b[1;32m<ipython-input-15-27872e335d79>\u001b[0m in \u001b[0;36m<module>\u001b[1;34m()\u001b[0m\n\u001b[0;32m      1\u001b[0m \u001b[1;32mfor\u001b[0m \u001b[1;33m(\u001b[0m\u001b[0mrow\u001b[0m\u001b[1;33m,\u001b[0m\u001b[0mcol\u001b[0m\u001b[1;33m)\u001b[0m \u001b[1;32min\u001b[0m \u001b[0mdf\u001b[0m\u001b[1;33m.\u001b[0m\u001b[0miterrows\u001b[0m\u001b[1;33m(\u001b[0m\u001b[1;33m)\u001b[0m\u001b[1;33m:\u001b[0m                   \u001b[1;31m# convert the name 'Kfc' to 'KFC' to get the name unique for KFC\u001b[0m\u001b[1;33m\u001b[0m\u001b[0m\n\u001b[1;32m----> 2\u001b[1;33m     \u001b[1;32mif\u001b[0m \u001b[0mdf\u001b[0m\u001b[1;33m.\u001b[0m\u001b[0mname\u001b[0m\u001b[1;33m.\u001b[0m\u001b[0miloc\u001b[0m\u001b[1;33m[\u001b[0m\u001b[0mrow\u001b[0m\u001b[1;33m]\u001b[0m \u001b[1;32min\u001b[0m \u001b[1;34m'Kfc'\u001b[0m\u001b[1;33m:\u001b[0m\u001b[1;33m\u001b[0m\u001b[0m\n\u001b[0m\u001b[0;32m      3\u001b[0m         \u001b[0mdf\u001b[0m\u001b[1;33m[\u001b[0m\u001b[1;34m'name'\u001b[0m\u001b[1;33m]\u001b[0m\u001b[1;33m.\u001b[0m\u001b[0mreplace\u001b[0m\u001b[1;33m(\u001b[0m\u001b[0mto_replace\u001b[0m\u001b[1;33m=\u001b[0m \u001b[0mdf\u001b[0m\u001b[1;33m.\u001b[0m\u001b[0mname\u001b[0m\u001b[1;33m.\u001b[0m\u001b[0miloc\u001b[0m\u001b[1;33m[\u001b[0m\u001b[0mrow\u001b[0m\u001b[1;33m]\u001b[0m\u001b[1;33m,\u001b[0m \u001b[0mvalue\u001b[0m\u001b[1;33m=\u001b[0m\u001b[1;34m\"KFC\"\u001b[0m\u001b[1;33m,\u001b[0m \u001b[0minplace\u001b[0m\u001b[1;33m=\u001b[0m\u001b[1;32mTrue\u001b[0m\u001b[1;33m)\u001b[0m\u001b[1;33m\u001b[0m\u001b[0m\n\u001b[0;32m      4\u001b[0m \u001b[1;33m\u001b[0m\u001b[0m\n",
      "\u001b[1;32m~\\Anaconda3\\lib\\site-packages\\pandas\\core\\indexing.py\u001b[0m in \u001b[0;36m__getitem__\u001b[1;34m(self, key)\u001b[0m\n\u001b[0;32m   1476\u001b[0m \u001b[1;33m\u001b[0m\u001b[0m\n\u001b[0;32m   1477\u001b[0m             \u001b[0mmaybe_callable\u001b[0m \u001b[1;33m=\u001b[0m \u001b[0mcom\u001b[0m\u001b[1;33m.\u001b[0m\u001b[0m_apply_if_callable\u001b[0m\u001b[1;33m(\u001b[0m\u001b[0mkey\u001b[0m\u001b[1;33m,\u001b[0m \u001b[0mself\u001b[0m\u001b[1;33m.\u001b[0m\u001b[0mobj\u001b[0m\u001b[1;33m)\u001b[0m\u001b[1;33m\u001b[0m\u001b[0m\n\u001b[1;32m-> 1478\u001b[1;33m             \u001b[1;32mreturn\u001b[0m \u001b[0mself\u001b[0m\u001b[1;33m.\u001b[0m\u001b[0m_getitem_axis\u001b[0m\u001b[1;33m(\u001b[0m\u001b[0mmaybe_callable\u001b[0m\u001b[1;33m,\u001b[0m \u001b[0maxis\u001b[0m\u001b[1;33m=\u001b[0m\u001b[0maxis\u001b[0m\u001b[1;33m)\u001b[0m\u001b[1;33m\u001b[0m\u001b[0m\n\u001b[0m\u001b[0;32m   1479\u001b[0m \u001b[1;33m\u001b[0m\u001b[0m\n\u001b[0;32m   1480\u001b[0m     \u001b[1;32mdef\u001b[0m \u001b[0m_is_scalar_access\u001b[0m\u001b[1;33m(\u001b[0m\u001b[0mself\u001b[0m\u001b[1;33m,\u001b[0m \u001b[0mkey\u001b[0m\u001b[1;33m)\u001b[0m\u001b[1;33m:\u001b[0m\u001b[1;33m\u001b[0m\u001b[0m\n",
      "\u001b[1;32m~\\Anaconda3\\lib\\site-packages\\pandas\\core\\indexing.py\u001b[0m in \u001b[0;36m_getitem_axis\u001b[1;34m(self, key, axis)\u001b[0m\n\u001b[0;32m   2100\u001b[0m \u001b[1;33m\u001b[0m\u001b[0m\n\u001b[0;32m   2101\u001b[0m             \u001b[1;31m# validate the location\u001b[0m\u001b[1;33m\u001b[0m\u001b[1;33m\u001b[0m\u001b[0m\n\u001b[1;32m-> 2102\u001b[1;33m             \u001b[0mself\u001b[0m\u001b[1;33m.\u001b[0m\u001b[0m_validate_integer\u001b[0m\u001b[1;33m(\u001b[0m\u001b[0mkey\u001b[0m\u001b[1;33m,\u001b[0m \u001b[0maxis\u001b[0m\u001b[1;33m)\u001b[0m\u001b[1;33m\u001b[0m\u001b[0m\n\u001b[0m\u001b[0;32m   2103\u001b[0m \u001b[1;33m\u001b[0m\u001b[0m\n\u001b[0;32m   2104\u001b[0m             \u001b[1;32mreturn\u001b[0m \u001b[0mself\u001b[0m\u001b[1;33m.\u001b[0m\u001b[0m_get_loc\u001b[0m\u001b[1;33m(\u001b[0m\u001b[0mkey\u001b[0m\u001b[1;33m,\u001b[0m \u001b[0maxis\u001b[0m\u001b[1;33m=\u001b[0m\u001b[0maxis\u001b[0m\u001b[1;33m)\u001b[0m\u001b[1;33m\u001b[0m\u001b[0m\n",
      "\u001b[1;32m~\\Anaconda3\\lib\\site-packages\\pandas\\core\\indexing.py\u001b[0m in \u001b[0;36m_validate_integer\u001b[1;34m(self, key, axis)\u001b[0m\n\u001b[0;32m   2007\u001b[0m         \u001b[0ml\u001b[0m \u001b[1;33m=\u001b[0m \u001b[0mlen\u001b[0m\u001b[1;33m(\u001b[0m\u001b[0max\u001b[0m\u001b[1;33m)\u001b[0m\u001b[1;33m\u001b[0m\u001b[0m\n\u001b[0;32m   2008\u001b[0m         \u001b[1;32mif\u001b[0m \u001b[0mkey\u001b[0m \u001b[1;33m>=\u001b[0m \u001b[0ml\u001b[0m \u001b[1;32mor\u001b[0m \u001b[0mkey\u001b[0m \u001b[1;33m<\u001b[0m \u001b[1;33m-\u001b[0m\u001b[0ml\u001b[0m\u001b[1;33m:\u001b[0m\u001b[1;33m\u001b[0m\u001b[0m\n\u001b[1;32m-> 2009\u001b[1;33m             \u001b[1;32mraise\u001b[0m \u001b[0mIndexError\u001b[0m\u001b[1;33m(\u001b[0m\u001b[1;34m\"single positional indexer is out-of-bounds\"\u001b[0m\u001b[1;33m)\u001b[0m\u001b[1;33m\u001b[0m\u001b[0m\n\u001b[0m\u001b[0;32m   2010\u001b[0m \u001b[1;33m\u001b[0m\u001b[0m\n\u001b[0;32m   2011\u001b[0m     \u001b[1;32mdef\u001b[0m \u001b[0m_getitem_tuple\u001b[0m\u001b[1;33m(\u001b[0m\u001b[0mself\u001b[0m\u001b[1;33m,\u001b[0m \u001b[0mtup\u001b[0m\u001b[1;33m)\u001b[0m\u001b[1;33m:\u001b[0m\u001b[1;33m\u001b[0m\u001b[0m\n",
      "\u001b[1;31mIndexError\u001b[0m: single positional indexer is out-of-bounds"
     ]
    }
   ],
   "source": [
    "for (row,col) in df.iterrows():                   # convert the name 'Kfc' to 'KFC' to get the name unique for KFC\n",
    "    if df.name.iloc[row] in 'Kfc':\n",
    "        df['name'].replace(to_replace= df.name.iloc[row], value=\"KFC\", inplace=True)\n",
    "        "
   ]
  },
  {
   "cell_type": "markdown",
   "metadata": {},
   "source": [
    "<a id=section402></a>"
   ]
  },
  {
   "cell_type": "markdown",
   "metadata": {},
   "source": [
    "### Missing data and its imputation"
   ]
  },
  {
   "cell_type": "code",
   "execution_count": 16,
   "metadata": {},
   "outputs": [
    {
     "name": "stdout",
     "output_type": "stream",
     "text": [
      "            Total   Percent\n",
      "websites      464  0.046405\n",
      "province        0  0.000000\n",
      "postalCode      0  0.000000\n",
      "name            0  0.000000\n",
      "longitude       0  0.000000\n",
      "latitude        0  0.000000\n",
      "keys            0  0.000000\n",
      "country         0  0.000000\n",
      "city            0  0.000000\n",
      "address         0  0.000000\n"
     ]
    }
   ],
   "source": [
    "Total = df.isnull().sum().sort_values(ascending=False)\n",
    "#total\n",
    "Percent= (df.isnull().sum()/df.isnull().count().sort_values()).sort_values(ascending=False)\n",
    "Missing_data= pnd.concat([Total,Percent],axis=1,keys=['Total','Percent'])\n",
    "print(Missing_data)"
   ]
  },
  {
   "cell_type": "code",
   "execution_count": 17,
   "metadata": {},
   "outputs": [],
   "source": [
    "df_kfcweb2=df['websites'][df['name'].str.contains(\"KFC\")==True]                    # Updating the missing values for KFC\n",
    "df['websites'].replace(to_replace= df_kfcweb2, value='http://www.kfc.com', inplace=True)\n",
    "\n"
   ]
  },
  {
   "cell_type": "code",
   "execution_count": 18,
   "metadata": {},
   "outputs": [
    {
     "name": "stdout",
     "output_type": "stream",
     "text": [
      "['http://www.kfc.com']\n"
     ]
    }
   ],
   "source": [
    "df_kfcweb2=df['websites'][df['name'].str.contains(\"KFC\")==True]                  #Print the websites for KFC\n",
    "print(df_kfcweb2.unique())"
   ]
  },
  {
   "cell_type": "code",
   "execution_count": 19,
   "metadata": {},
   "outputs": [],
   "source": [
    "df_subweb=df['websites'][df['keys'].str.contains(\"891525969\")==True]              # Updating the missing values for Subway\n",
    "df['websites'].replace(to_replace= df_subweb, value='http://www.subway.com', inplace=True)\n"
   ]
  },
  {
   "cell_type": "code",
   "execution_count": 20,
   "metadata": {},
   "outputs": [
    {
     "name": "stdout",
     "output_type": "stream",
     "text": [
      "['http://www.subway.com']\n"
     ]
    }
   ],
   "source": [
    "df_subweb=df['websites'][df['keys'].str.contains(\"891525969\")==True]            #Print the websites for subway\n",
    "print(df_subweb.unique())"
   ]
  },
  {
   "cell_type": "code",
   "execution_count": 21,
   "metadata": {},
   "outputs": [],
   "source": [
    "df_tacoweb=df['websites'][df['keys'].str.contains(\"864103396\")==True]            # Updating the missing values for Tacobell\n",
    "df['websites'].replace(to_replace= df_tacoweb, value='http://www.tacobell.com', inplace=True)\n",
    "\n"
   ]
  },
  {
   "cell_type": "code",
   "execution_count": 22,
   "metadata": {},
   "outputs": [
    {
     "name": "stdout",
     "output_type": "stream",
     "text": [
      "['http://www.tacobell.com']\n"
     ]
    }
   ],
   "source": [
    "df_tacoweb=df['websites'][df['keys'].str.contains(\"864103396\")==True]            # Print the websites for Tacobell\n",
    "print(df_tacoweb.unique())"
   ]
  },
  {
   "cell_type": "code",
   "execution_count": 23,
   "metadata": {},
   "outputs": [],
   "source": [
    "df_wendyweb=df['websites'][df['keys'].str.contains(\"791445730\")==True]      # Updating the missing values for Wendys\n",
    "df['websites'].replace(to_replace= df_wendyweb, value='http://www.wendys.com', inplace=True)\n"
   ]
  },
  {
   "cell_type": "code",
   "execution_count": 24,
   "metadata": {},
   "outputs": [
    {
     "name": "stdout",
     "output_type": "stream",
     "text": [
      "['http://www.wendys.com']\n"
     ]
    }
   ],
   "source": [
    "df_wendyweb=df['websites'][df['keys'].str.contains(\"791445730\")==True]    # Print the websites for wendys\n",
    "print(df_wendyweb.unique())"
   ]
  },
  {
   "cell_type": "code",
   "execution_count": 25,
   "metadata": {},
   "outputs": [],
   "source": [
    "df_jimmyweb=df['websites'][df['keys'].str.contains(\"1947870258\")==True]    # Updating the missing values for jimmyjohns\n",
    "d=df['websites'].replace(to_replace= df_jimmyweb, value='http://www.jimmyjohns.com', inplace=True)\n"
   ]
  },
  {
   "cell_type": "code",
   "execution_count": 26,
   "metadata": {},
   "outputs": [
    {
     "name": "stdout",
     "output_type": "stream",
     "text": [
      "['http://www.jimmyjohns.com']\n"
     ]
    }
   ],
   "source": [
    "df_jimmyweb=df['websites'][df['keys'].str.contains(\"1947870258\")==True]   # Print the websites for jimmyjohns\n",
    "print(df_jimmyweb.unique())"
   ]
  },
  {
   "cell_type": "code",
   "execution_count": 27,
   "metadata": {},
   "outputs": [],
   "source": [
    "df_waffweb=df['websites'][df['keys'].str.contains(\"1082608893\")==True]    # Updating the missing values for wafflehouse\n",
    "d=df['websites'].replace(to_replace= df_waffweb, value='http://www.wafflehouse.com', inplace=True)"
   ]
  },
  {
   "cell_type": "code",
   "execution_count": 28,
   "metadata": {},
   "outputs": [
    {
     "name": "stdout",
     "output_type": "stream",
     "text": [
      "['http://www.wafflehouse.com']\n"
     ]
    }
   ],
   "source": [
    "df_waffweb=df['websites'][df['keys'].str.contains(\"1082608893\")==True]   # Print the websites for jimmyjohns\n",
    "print(df_waffweb.unique())"
   ]
  },
  {
   "cell_type": "code",
   "execution_count": 29,
   "metadata": {},
   "outputs": [],
   "source": [
    "df_jackweb=df['websites'][df['keys'].str.contains(\"230519289\")==True]    # Updating the missing values for jackinthebox\n",
    "d=df['websites'].replace(to_replace= df_jackweb, value='http://www.jackinthebox.com', inplace=True)"
   ]
  },
  {
   "cell_type": "code",
   "execution_count": 37,
   "metadata": {},
   "outputs": [
    {
     "name": "stdout",
     "output_type": "stream",
     "text": [
      "['http://www.jackinthebox.com']\n"
     ]
    }
   ],
   "source": [
    "df_jackweb=df['websites'][df['keys'].str.contains(\"230519289\")==True]    # Print the websites for jackinthebox\n",
    "print(df_jackweb.unique())"
   ]
  },
  {
   "cell_type": "code",
   "execution_count": 30,
   "metadata": {},
   "outputs": [],
   "source": [
    "df_arbyweb=df['websites'][df['keys'].str.contains(\"93075755\")==True]      # Updating the missing values for arbys\n",
    "df['websites'].replace(to_replace= df_arbyweb, value='http://www.arbys.com', inplace=True)\n"
   ]
  },
  {
   "cell_type": "code",
   "execution_count": 31,
   "metadata": {},
   "outputs": [
    {
     "name": "stdout",
     "output_type": "stream",
     "text": [
      "['http://www.arbys.com']\n"
     ]
    }
   ],
   "source": [
    "df_arbyweb=df['websites'][df['keys'].str.contains(\"93075755\")==True]\n",
    "print(df_arbyweb.unique())                    # to show the unique value in websites field for Arby"
   ]
  },
  {
   "cell_type": "code",
   "execution_count": 32,
   "metadata": {},
   "outputs": [],
   "source": [
    "df_littleweb=df['websites'][df['keys'].str.contains(\"1770159848\")==True]          # Updating the missing values for littlecaesars\n",
    "d=df['websites'].replace(to_replace= df_littleweb, value='http://www.littlecaesars.com/', inplace=True)\n"
   ]
  },
  {
   "cell_type": "code",
   "execution_count": 33,
   "metadata": {},
   "outputs": [
    {
     "name": "stdout",
     "output_type": "stream",
     "text": [
      "['http://www.littlecaesars.com/']\n"
     ]
    }
   ],
   "source": [
    "df_littleweb=df['websites'][df['keys'].str.contains(\"1770159848\")==True]           # Print the websites for littlecaesars\n",
    "print(df_littleweb.unique()) "
   ]
  },
  {
   "cell_type": "code",
   "execution_count": 34,
   "metadata": {},
   "outputs": [],
   "source": [
    "df_dairyweb=df['websites'][df['keys'].str.contains(\"1721138121\")==True]  # Update the websites field for dairyqueen\n",
    "df['websites'].replace(to_replace= df_dairyweb, value='http://dairyqueen.com', inplace=True)\n"
   ]
  },
  {
   "cell_type": "code",
   "execution_count": 35,
   "metadata": {},
   "outputs": [
    {
     "name": "stdout",
     "output_type": "stream",
     "text": [
      "['http://dairyqueen.com']\n"
     ]
    }
   ],
   "source": [
    "df_dairyweb=df['websites'][df['keys'].str.contains(\"1721138121\")==True]  # Print the websites for dairyqueen\n",
    "print(df_dairyweb.unique())"
   ]
  },
  {
   "cell_type": "code",
   "execution_count": 36,
   "metadata": {},
   "outputs": [],
   "source": [
    "df_whatweb=df['websites'][df['name'].str.contains(\"Whatab\")==True]  ## Update the websites column for whataburger\n",
    "df['websites'].replace(to_replace= df_whatweb, value='http://www.whataburger.com', inplace=True)\n"
   ]
  },
  {
   "cell_type": "code",
   "execution_count": 37,
   "metadata": {},
   "outputs": [
    {
     "name": "stdout",
     "output_type": "stream",
     "text": [
      "['http://www.whataburger.com']\n"
     ]
    }
   ],
   "source": [
    "df_whatweb=df['websites'][df['name'].str.contains(\"Whatab\")==True] # to show the unique value in websites field for whataburger\n",
    "print(df_whatweb.unique())"
   ]
  },
  {
   "cell_type": "code",
   "execution_count": 38,
   "metadata": {},
   "outputs": [],
   "source": [
    "df_macD=df['websites'][df['name'].str.contains(\"McD\")==True]    ## Update the websites column for McDonald's\n",
    "df['websites'].replace(to_replace= df_macD, value='http://mcdonalds.com', inplace=True)"
   ]
  },
  {
   "cell_type": "code",
   "execution_count": 39,
   "metadata": {},
   "outputs": [
    {
     "name": "stdout",
     "output_type": "stream",
     "text": [
      "['http://mcdonalds.com']\n"
     ]
    }
   ],
   "source": [
    "df_macD=df['websites'][df['name'].str.contains(\"McD\")==True]  # to show the unique value in websites field for McDonald's\n",
    "print(df_macD.unique())"
   ]
  },
  {
   "cell_type": "code",
   "execution_count": 40,
   "metadata": {},
   "outputs": [],
   "source": [
    "df_burweb=df['websites'][df['name'].str.contains(\"Burger King\")==True] \n",
    "df['websites'].replace(to_replace= df_burweb, value='http://www.bk.com', inplace=True)\n"
   ]
  },
  {
   "cell_type": "code",
   "execution_count": 41,
   "metadata": {},
   "outputs": [
    {
     "name": "stdout",
     "output_type": "stream",
     "text": [
      "['http://www.bk.com']\n"
     ]
    }
   ],
   "source": [
    "df_burweb=df['websites'][df['name'].str.contains(\"Burger King\")==True] \n",
    "print(df_burweb.unique())"
   ]
  },
  {
   "cell_type": "markdown",
   "metadata": {},
   "source": [
    "# Observation: \n",
    "As the rest of the rows having null values in websites field and unable to put logical values in it is replaced with a meaningful value"
   ]
  },
  {
   "cell_type": "code",
   "execution_count": 42,
   "metadata": {},
   "outputs": [],
   "source": [
    "Total = df.isnull().sum().sort_values(ascending=False) # row count with Null value\n",
    "Total\n",
    "\n",
    "df.fillna(value='Website is missing',inplace=True)   # fill with value\n",
    "\n"
   ]
  },
  {
   "cell_type": "code",
   "execution_count": 43,
   "metadata": {},
   "outputs": [
    {
     "name": "stdout",
     "output_type": "stream",
     "text": [
      "            Total  Percent\n",
      "websites        0      0.0\n",
      "province        0      0.0\n",
      "postalCode      0      0.0\n",
      "name            0      0.0\n",
      "longitude       0      0.0\n",
      "latitude        0      0.0\n",
      "keys            0      0.0\n",
      "country         0      0.0\n",
      "city            0      0.0\n",
      "address         0      0.0\n"
     ]
    }
   ],
   "source": [
    "Total = df.isnull().sum().sort_values(ascending=False)              #checking the missing value if any\n",
    "Total\n",
    "Percent= (df.isnull().sum()/df.isnull().count().sort_values()).sort_values(ascending=False)\n",
    "Missing_data= pnd.concat([Total,Percent],axis=1,keys=['Total','Percent'])\n",
    "print(Missing_data)"
   ]
  },
  {
   "cell_type": "markdown",
   "metadata": {},
   "source": [
    "<a id=section5></a>"
   ]
  },
  {
   "cell_type": "markdown",
   "metadata": {},
   "source": [
    "### Identify the pattern of the data "
   ]
  },
  {
   "cell_type": "code",
   "execution_count": 44,
   "metadata": {},
   "outputs": [
    {
     "data": {
      "text/plain": [
       "52"
      ]
     },
     "execution_count": 44,
     "metadata": {},
     "output_type": "execute_result"
    }
   ],
   "source": [
    "ProvinceCount= len(df['province'].unique().tolist())  # Total Province \n",
    "ProvinceCount\n",
    "\n"
   ]
  },
  {
   "cell_type": "code",
   "execution_count": 55,
   "metadata": {},
   "outputs": [
    {
     "data": {
      "text/plain": [
       "2775"
      ]
     },
     "execution_count": 55,
     "metadata": {},
     "output_type": "execute_result"
    }
   ],
   "source": [
    "CityCount= len(df['city'].unique().tolist())          # Total city\n",
    "CityCount"
   ]
  },
  {
   "cell_type": "code",
   "execution_count": 45,
   "metadata": {},
   "outputs": [
    {
     "data": {
      "text/plain": [
       "province\n",
       "CA    676\n",
       "TX    634\n",
       "OH    543\n",
       "FL    471\n",
       "IN    379\n",
       "IL    363\n",
       "NC    358\n",
       "GA    347\n",
       "MO    334\n",
       "KY    332\n",
       "VA    327\n",
       "PA    283\n",
       "NY    269\n",
       "MI    251\n",
       "TN    245\n",
       "SC    238\n",
       "LA    237\n",
       "AL    236\n",
       "WA    209\n",
       "AZ    208\n",
       "OK    208\n",
       "WI    186\n",
       "IA    166\n",
       "MD    159\n",
       "CO    158\n",
       "UT    158\n",
       "AR    151\n",
       "NJ    151\n",
       "NM    149\n",
       "MN    148\n",
       "Name: Total number of Restaurant, dtype: int64"
      ]
     },
     "execution_count": 45,
     "metadata": {},
     "output_type": "execute_result"
    }
   ],
   "source": [
    "df1=df.groupby('province').count().sort_values(by=[\"keys\"],ascending=False).head(30) #Province vs number of restaurants\n",
    "\n",
    "df1['Total number of Restaurant']= df1['keys']\n",
    "df1pc = df1['Total number of Restaurant']\n",
    "df1pc "
   ]
  },
  {
   "cell_type": "code",
   "execution_count": 46,
   "metadata": {},
   "outputs": [
    {
     "data": {
      "text/plain": [
       "province\n",
       "AK           6\n",
       "AL          91\n",
       "AR          56\n",
       "AZ          46\n",
       "CA         259\n",
       "CO          42\n",
       "CT          39\n",
       "Co Spgs      1\n",
       "DC           1\n",
       "DE          13\n",
       "FL         124\n",
       "GA         117\n",
       "HI          15\n",
       "IA          60\n",
       "ID          21\n",
       "IL         150\n",
       "IN         110\n",
       "KS          46\n",
       "KY          92\n",
       "LA          64\n",
       "MA          78\n",
       "MD          67\n",
       "ME          23\n",
       "MI         105\n",
       "MN          44\n",
       "MO          96\n",
       "MS          26\n",
       "MT          11\n",
       "NC         134\n",
       "ND          12\n",
       "NE          29\n",
       "NH          20\n",
       "NJ          97\n",
       "NM          33\n",
       "NV          13\n",
       "NY         124\n",
       "OH         154\n",
       "OK          57\n",
       "OR          47\n",
       "PA         134\n",
       "RI          16\n",
       "SC          81\n",
       "SD          22\n",
       "TN          94\n",
       "TX         212\n",
       "UT          46\n",
       "VA         107\n",
       "VT          14\n",
       "WA          65\n",
       "WI          77\n",
       "WV          36\n",
       "WY          12\n",
       "Name: city, dtype: int64"
      ]
     },
     "execution_count": 46,
     "metadata": {},
     "output_type": "execute_result"
    }
   ],
   "source": [
    "dfpc= df.groupby(['province']).city.nunique()   # Province vs number of city\n",
    "dfpc"
   ]
  },
  {
   "cell_type": "code",
   "execution_count": 47,
   "metadata": {},
   "outputs": [
    {
     "data": {
      "text/html": [
       "<div>\n",
       "<style scoped>\n",
       "    .dataframe tbody tr th:only-of-type {\n",
       "        vertical-align: middle;\n",
       "    }\n",
       "\n",
       "    .dataframe tbody tr th {\n",
       "        vertical-align: top;\n",
       "    }\n",
       "\n",
       "    .dataframe thead th {\n",
       "        text-align: right;\n",
       "    }\n",
       "</style>\n",
       "<table border=\"1\" class=\"dataframe\">\n",
       "  <thead>\n",
       "    <tr style=\"text-align: right;\">\n",
       "      <th></th>\n",
       "      <th>city</th>\n",
       "      <th>Total number of Restaurant</th>\n",
       "    </tr>\n",
       "    <tr>\n",
       "      <th>province</th>\n",
       "      <th></th>\n",
       "      <th></th>\n",
       "    </tr>\n",
       "  </thead>\n",
       "  <tbody>\n",
       "    <tr>\n",
       "      <th>AL</th>\n",
       "      <td>91</td>\n",
       "      <td>236</td>\n",
       "    </tr>\n",
       "    <tr>\n",
       "      <th>AR</th>\n",
       "      <td>56</td>\n",
       "      <td>151</td>\n",
       "    </tr>\n",
       "    <tr>\n",
       "      <th>AZ</th>\n",
       "      <td>46</td>\n",
       "      <td>208</td>\n",
       "    </tr>\n",
       "    <tr>\n",
       "      <th>CA</th>\n",
       "      <td>259</td>\n",
       "      <td>676</td>\n",
       "    </tr>\n",
       "    <tr>\n",
       "      <th>CO</th>\n",
       "      <td>42</td>\n",
       "      <td>158</td>\n",
       "    </tr>\n",
       "    <tr>\n",
       "      <th>FL</th>\n",
       "      <td>124</td>\n",
       "      <td>471</td>\n",
       "    </tr>\n",
       "    <tr>\n",
       "      <th>GA</th>\n",
       "      <td>117</td>\n",
       "      <td>347</td>\n",
       "    </tr>\n",
       "    <tr>\n",
       "      <th>IA</th>\n",
       "      <td>60</td>\n",
       "      <td>166</td>\n",
       "    </tr>\n",
       "    <tr>\n",
       "      <th>IL</th>\n",
       "      <td>150</td>\n",
       "      <td>363</td>\n",
       "    </tr>\n",
       "    <tr>\n",
       "      <th>IN</th>\n",
       "      <td>110</td>\n",
       "      <td>379</td>\n",
       "    </tr>\n",
       "    <tr>\n",
       "      <th>KY</th>\n",
       "      <td>92</td>\n",
       "      <td>332</td>\n",
       "    </tr>\n",
       "    <tr>\n",
       "      <th>LA</th>\n",
       "      <td>64</td>\n",
       "      <td>237</td>\n",
       "    </tr>\n",
       "    <tr>\n",
       "      <th>MD</th>\n",
       "      <td>67</td>\n",
       "      <td>159</td>\n",
       "    </tr>\n",
       "    <tr>\n",
       "      <th>MI</th>\n",
       "      <td>105</td>\n",
       "      <td>251</td>\n",
       "    </tr>\n",
       "    <tr>\n",
       "      <th>MN</th>\n",
       "      <td>44</td>\n",
       "      <td>148</td>\n",
       "    </tr>\n",
       "    <tr>\n",
       "      <th>MO</th>\n",
       "      <td>96</td>\n",
       "      <td>334</td>\n",
       "    </tr>\n",
       "    <tr>\n",
       "      <th>NC</th>\n",
       "      <td>134</td>\n",
       "      <td>358</td>\n",
       "    </tr>\n",
       "    <tr>\n",
       "      <th>NJ</th>\n",
       "      <td>97</td>\n",
       "      <td>151</td>\n",
       "    </tr>\n",
       "    <tr>\n",
       "      <th>NM</th>\n",
       "      <td>33</td>\n",
       "      <td>149</td>\n",
       "    </tr>\n",
       "    <tr>\n",
       "      <th>NY</th>\n",
       "      <td>124</td>\n",
       "      <td>269</td>\n",
       "    </tr>\n",
       "    <tr>\n",
       "      <th>OH</th>\n",
       "      <td>154</td>\n",
       "      <td>543</td>\n",
       "    </tr>\n",
       "    <tr>\n",
       "      <th>OK</th>\n",
       "      <td>57</td>\n",
       "      <td>208</td>\n",
       "    </tr>\n",
       "    <tr>\n",
       "      <th>PA</th>\n",
       "      <td>134</td>\n",
       "      <td>283</td>\n",
       "    </tr>\n",
       "    <tr>\n",
       "      <th>SC</th>\n",
       "      <td>81</td>\n",
       "      <td>238</td>\n",
       "    </tr>\n",
       "    <tr>\n",
       "      <th>TN</th>\n",
       "      <td>94</td>\n",
       "      <td>245</td>\n",
       "    </tr>\n",
       "    <tr>\n",
       "      <th>TX</th>\n",
       "      <td>212</td>\n",
       "      <td>634</td>\n",
       "    </tr>\n",
       "    <tr>\n",
       "      <th>UT</th>\n",
       "      <td>46</td>\n",
       "      <td>158</td>\n",
       "    </tr>\n",
       "    <tr>\n",
       "      <th>VA</th>\n",
       "      <td>107</td>\n",
       "      <td>327</td>\n",
       "    </tr>\n",
       "    <tr>\n",
       "      <th>WA</th>\n",
       "      <td>65</td>\n",
       "      <td>209</td>\n",
       "    </tr>\n",
       "    <tr>\n",
       "      <th>WI</th>\n",
       "      <td>77</td>\n",
       "      <td>186</td>\n",
       "    </tr>\n",
       "  </tbody>\n",
       "</table>\n",
       "</div>"
      ],
      "text/plain": [
       "          city  Total number of Restaurant\n",
       "province                                  \n",
       "AL          91                         236\n",
       "AR          56                         151\n",
       "AZ          46                         208\n",
       "CA         259                         676\n",
       "CO          42                         158\n",
       "FL         124                         471\n",
       "GA         117                         347\n",
       "IA          60                         166\n",
       "IL         150                         363\n",
       "IN         110                         379\n",
       "KY          92                         332\n",
       "LA          64                         237\n",
       "MD          67                         159\n",
       "MI         105                         251\n",
       "MN          44                         148\n",
       "MO          96                         334\n",
       "NC         134                         358\n",
       "NJ          97                         151\n",
       "NM          33                         149\n",
       "NY         124                         269\n",
       "OH         154                         543\n",
       "OK          57                         208\n",
       "PA         134                         283\n",
       "SC          81                         238\n",
       "TN          94                         245\n",
       "TX         212                         634\n",
       "UT          46                         158\n",
       "VA         107                         327\n",
       "WA          65                         209\n",
       "WI          77                         186"
      ]
     },
     "execution_count": 47,
     "metadata": {},
     "output_type": "execute_result"
    }
   ],
   "source": [
    "dfhst= pnd.concat([dfpc,df1pc], axis=1, join='inner')  # Province with number of city and number of restaurants\n",
    "dfhst\n",
    "#dfhst.hist()\n",
    "#plt.show()"
   ]
  },
  {
   "cell_type": "code",
   "execution_count": 48,
   "metadata": {},
   "outputs": [
    {
     "data": {
      "text/plain": [
       "array([[<matplotlib.axes._subplots.AxesSubplot object at 0x000001E55E38A278>,\n",
       "        <matplotlib.axes._subplots.AxesSubplot object at 0x000001E56277DFD0>]], dtype=object)"
      ]
     },
     "execution_count": 48,
     "metadata": {},
     "output_type": "execute_result"
    },
    {
     "data": {
      "image/png": "[encoded data removed]",
      "text/plain": [
       "<Figure size 432x288 with 2 Axes>"
      ]
     },
     "metadata": {
      "needs_background": "light"
     },
     "output_type": "display_data"
    }
   ],
   "source": [
    "dfhst= pnd.concat([df1pc, dfpc], axis=1, join='inner')   # histogram of Province wise number of cities and restaurant \n",
    "dfhst.hist(bins=3)\n"
   ]
  },
  {
   "cell_type": "markdown",
   "metadata": {},
   "source": [
    "### Pairplot of longitude and latitude"
   ]
  },
  {
   "cell_type": "code",
   "execution_count": 88,
   "metadata": {},
   "outputs": [
    {
     "data": {
      "image/png": "[encoded data removed]",
      "text/plain": [
       "<Figure size 360x360 with 6 Axes>"
      ]
     },
     "metadata": {
      "needs_background": "light"
     },
     "output_type": "display_data"
    }
   ],
   "source": [
    "sns.pairplot(df);                  #Pairplot of longitude and latitude"
   ]
  },
  {
   "cell_type": "code",
   "execution_count": 89,
   "metadata": {},
   "outputs": [
    {
     "data": {
      "text/plain": [
       "<seaborn.axisgrid.PairGrid at 0x220c55d9978>"
      ]
     },
     "execution_count": 89,
     "metadata": {},
     "output_type": "execute_result"
    },
    {
     "data": {
      "image/png": "[encoded data removed]",
      "text/plain": [
       "<Figure size 360x360 with 6 Axes>"
      ]
     },
     "metadata": {
      "needs_background": "light"
     },
     "output_type": "display_data"
    }
   ],
   "source": [
    "sns.pairplot(dfhst)                          #Pair plot of city counts and respective restaurant counts"
   ]
  },
  {
   "cell_type": "markdown",
   "metadata": {},
   "source": [
    "### Bar plot of Province vs city count/ Restaurant count"
   ]
  },
  {
   "cell_type": "code",
   "execution_count": 85,
   "metadata": {},
   "outputs": [
    {
     "data": {
      "text/plain": [
       "<matplotlib.axes._subplots.AxesSubplot at 0x220c53bb710>"
      ]
     },
     "execution_count": 85,
     "metadata": {},
     "output_type": "execute_result"
    },
    {
     "data": {
      "image/png": "[encoded data removed]",
      "text/plain": [
       "<Figure size 432x288 with 1 Axes>"
      ]
     },
     "metadata": {
      "needs_background": "light"
     },
     "output_type": "display_data"
    }
   ],
   "source": [
    "dfhst.plot.bar()                               "
   ]
  },
  {
   "cell_type": "markdown",
   "metadata": {},
   "source": [
    "### Scatter plot of city count and restaurant count for provinces"
   ]
  },
  {
   "cell_type": "code",
   "execution_count": 86,
   "metadata": {},
   "outputs": [
    {
     "data": {
      "text/plain": [
       "<matplotlib.collections.PathCollection at 0x220c56ce898>"
      ]
     },
     "execution_count": 86,
     "metadata": {},
     "output_type": "execute_result"
    },
    {
     "data": {
      "image/png": "[encoded data removed]",
      "text/plain": [
       "<Figure size 432x288 with 1 Axes>"
      ]
     },
     "metadata": {
      "needs_background": "light"
     },
     "output_type": "display_data"
    }
   ],
   "source": [
    "plt.scatter(dfhst['city'],dfhst['Total number of Restaurant'])   #Scatter plot of city count and restaurant count for provinces"
   ]
  },
  {
   "cell_type": "markdown",
   "metadata": {},
   "source": [
    "### Box plot of city count and restaurant count"
   ]
  },
  {
   "cell_type": "code",
   "execution_count": 87,
   "metadata": {},
   "outputs": [
    {
     "data": {
      "text/plain": [
       "<matplotlib.axes._subplots.AxesSubplot at 0x220c56b9320>"
      ]
     },
     "execution_count": 87,
     "metadata": {},
     "output_type": "execute_result"
    },
    {
     "data": {
      "image/png": "[encoded data removed]",
      "text/plain": [
       "<Figure size 432x288 with 1 Axes>"
      ]
     },
     "metadata": {
      "needs_background": "light"
     },
     "output_type": "display_data"
    }
   ],
   "source": [
    "dfhst.plot.box()                                "
   ]
  },
  {
   "cell_type": "markdown",
   "metadata": {},
   "source": [
    "### Restaurants distribution with respect to location position"
   ]
  },
  {
   "cell_type": "code",
   "execution_count": 90,
   "metadata": {},
   "outputs": [
    {
     "name": "stdout",
     "output_type": "stream",
     "text": [
      "                 address                    city country  \\\n",
      "0            324 Main St                 Massena      US   \n",
      "1        530 Clinton Ave  Washington Court House      US   \n",
      "2   408 Market Square Dr               Maysville      US   \n",
      "3  6098 State Highway 37                 Massena      US   \n",
      "4        139 Columbus Rd                  Athens      US   \n",
      "\n",
      "                                                keys  latitude  longitude  \\\n",
      "0                us/ny/massena/324mainst/-1161002137  44.92130  -74.89021   \n",
      "1  us/oh/washingtoncourthouse/530clintonave/-7914...  39.53255  -83.44526   \n",
      "2       us/ky/maysville/408marketsquaredr/1051460804  38.62736  -83.79141   \n",
      "3       us/ny/massena/6098statehighway37/-1161002137  44.95008  -74.84553   \n",
      "4               us/oh/athens/139columbusrd/990890980  39.35155  -82.09728   \n",
      "\n",
      "               name postalCode province  \\\n",
      "0        McDonald's      13662       NY   \n",
      "1           Wendy's      43160       OH   \n",
      "2  Frisch's Big Boy      41056       KY   \n",
      "3        McDonald's      13662       NY   \n",
      "4   OMG! Rotisserie      45701       OH   \n",
      "\n",
      "                                            websites  \\\n",
      "0                               http://mcdonalds.com   \n",
      "1                              http://www.wendys.com   \n",
      "2  http://www.frischs.com,https://www.frischs.com...   \n",
      "3                               http://mcdonalds.com   \n",
      "4  http://www.omgrotisserie.com,http://omgrotisse...   \n",
      "\n",
      "                           Coordinates  \n",
      "0            POINT (-74.89021 44.9213)  \n",
      "1           POINT (-83.44526 39.53255)  \n",
      "2           POINT (-83.79141 38.62736)  \n",
      "3  POINT (-74.84553000000001 44.95008)  \n",
      "4           POINT (-82.09728 39.35155)  \n"
     ]
    }
   ],
   "source": [
    "df['Coordinates'] = list(zip(df.longitude, df.latitude))\n",
    "df['Coordinates'] = df['Coordinates'].apply(Point)\n",
    "gdf = geopandas.GeoDataFrame(df, geometry='Coordinates')\n",
    "print(gdf.head())"
   ]
  },
  {
   "cell_type": "code",
   "execution_count": 94,
   "metadata": {},
   "outputs": [
    {
     "data": {
      "image/png": "[encoded data removed]",
      "text/plain": [
       "<Figure size 432x288 with 1 Axes>"
      ]
     },
     "metadata": {
      "needs_background": "light"
     },
     "output_type": "display_data"
    }
   ],
   "source": [
    "world = geopandas.read_file(geopandas.datasets.get_path('naturalearth_lowres'))  # Restaurant distribution in South America\n",
    "ax = world[world.continent == 'South America'].plot(           \n",
    "    color='white', edgecolor='black')\n",
    "\n",
    "# We can now plot our GeoDataFrame.\n",
    "gdf.plot(ax=ax, color='red')\n",
    "\n",
    "plt.show()"
   ]
  },
  {
   "cell_type": "code",
   "execution_count": 95,
   "metadata": {},
   "outputs": [
    {
     "data": {
      "image/png": "[encoded data removed]",
      "text/plain": [
       "<Figure size 432x288 with 1 Axes>"
      ]
     },
     "metadata": {
      "needs_background": "light"
     },
     "output_type": "display_data"
    }
   ],
   "source": [
    "ax = world[world.continent == 'North America'].plot(          #Restaurant distribution in North America\n",
    "    color='white', edgecolor='black')\n",
    "\n",
    "# We can now plot our GeoDataFrame.\n",
    "gdf.plot(ax=ax, color='red')\n",
    "\n",
    "plt.show()"
   ]
  },
  {
   "cell_type": "markdown",
   "metadata": {},
   "source": [
    "<a id=section6></a>"
   ]
  },
  {
   "cell_type": "markdown",
   "metadata": {},
   "source": [
    "### what are those provinces with lesser number of restaurants?"
   ]
  },
  {
   "cell_type": "code",
   "execution_count": 49,
   "metadata": {},
   "outputs": [
    {
     "data": {
      "text/plain": [
       "<matplotlib.axes._subplots.AxesSubplot at 0x1e56280a550>"
      ]
     },
     "execution_count": 49,
     "metadata": {},
     "output_type": "execute_result"
    },
    {
     "data": {
      "image/png": "[encoded data removed]",
      "text/plain": [
       "<Figure size 432x288 with 1 Axes>"
      ]
     },
     "metadata": {
      "needs_background": "light"
     },
     "output_type": "display_data"
    }
   ],
   "source": [
    "df11=df.groupby('province').count().sort_values(by=[\"keys\"],ascending=True).head(10) #province with lesser number of restaurant\n",
    "df11['Total Number of Restaurants']= df11['keys']\n",
    "df11['Total Number of Restaurants'].plot.bar()\n"
   ]
  },
  {
   "cell_type": "markdown",
   "metadata": {},
   "source": [
    "### Which cities have highest number of restaurant counts?"
   ]
  },
  {
   "cell_type": "code",
   "execution_count": 50,
   "metadata": {},
   "outputs": [
    {
     "data": {
      "text/plain": [
       "<matplotlib.axes._subplots.AxesSubplot at 0x1e56288b7f0>"
      ]
     },
     "execution_count": 50,
     "metadata": {},
     "output_type": "execute_result"
    },
    {
     "data": {
      "image/png": "[encoded data removed]",
      "text/plain": [
       "<Figure size 432x288 with 1 Axes>"
      ]
     },
     "metadata": {
      "needs_background": "light"
     },
     "output_type": "display_data"
    }
   ],
   "source": [
    "df2=df.groupby('city').count().sort_values(by=[\"keys\"],ascending=False).head(10) # Restaurant count in different Cities\n",
    "df2['Total number of Restaurants']= df2['keys']\n",
    "df2['Total number of Restaurants'].plot.bar()"
   ]
  },
  {
   "cell_type": "markdown",
   "metadata": {},
   "source": [
    "### Which cities have less number of restaurant count?"
   ]
  },
  {
   "cell_type": "code",
   "execution_count": 62,
   "metadata": {},
   "outputs": [
    {
     "data": {
      "text/plain": [
       "city\n",
       "Long Branch       1\n",
       "Mena              1\n",
       "Medicine Lodge    1\n",
       "Media             1\n",
       "Mechanicville     1\n",
       "Mcloud            1\n",
       "Mckeesport        1\n",
       "Mc Farland        1\n",
       "Mc Cordsville     1\n",
       "Mc Calla          1\n",
       "Name: Total number of Restaurants, dtype: int64"
      ]
     },
     "execution_count": 62,
     "metadata": {},
     "output_type": "execute_result"
    }
   ],
   "source": [
    "df22=df.groupby('city').count().sort_values(by=[\"keys\"],ascending=True).head(10)\n",
    "df22['Total number of Restaurants']= df22['keys']\n",
    "df22['Total number of Restaurants']"
   ]
  },
  {
   "cell_type": "markdown",
   "metadata": {},
   "source": [
    "### What are those restaurants which have most number of outlet in USA?"
   ]
  },
  {
   "cell_type": "code",
   "execution_count": 51,
   "metadata": {},
   "outputs": [
    {
     "data": {
      "text/plain": [
       "<matplotlib.axes._subplots.AxesSubplot at 0x1e56280d400>"
      ]
     },
     "execution_count": 51,
     "metadata": {},
     "output_type": "execute_result"
    },
    {
     "data": {
      "image/png": "[encoded data removed]",
      "text/plain": [
       "<Figure size 432x288 with 1 Axes>"
      ]
     },
     "metadata": {
      "needs_background": "light"
     },
     "output_type": "display_data"
    }
   ],
   "source": [
    "df3=df.groupby('name').count().sort_values(by=[\"keys\"],ascending=False).head(10) #Restaurants with their respective counts\n",
    "df3['Total count']=df3['keys']\n",
    "df_rest= df3['Total count']\n",
    "\n",
    "df_rest.plot.bar()\n",
    "#df_rest.plot.line()\n"
   ]
  },
  {
   "cell_type": "code",
   "execution_count": 79,
   "metadata": {},
   "outputs": [
    {
     "data": {
      "text/plain": [
       "([<matplotlib.patches.Wedge at 0x220c4f53b70>,\n",
       "  <matplotlib.patches.Wedge at 0x220c526e6a0>,\n",
       "  <matplotlib.patches.Wedge at 0x220c513fdd8>,\n",
       "  <matplotlib.patches.Wedge at 0x220c513f438>,\n",
       "  <matplotlib.patches.Wedge at 0x220c52a2438>,\n",
       "  <matplotlib.patches.Wedge at 0x220c51b5080>,\n",
       "  <matplotlib.patches.Wedge at 0x220c51b5128>,\n",
       "  <matplotlib.patches.Wedge at 0x220c50643c8>,\n",
       "  <matplotlib.patches.Wedge at 0x220c50642e8>,\n",
       "  <matplotlib.patches.Wedge at 0x220c52424a8>],\n",
       " [Text(-0.4385251018737055, 1.0088090676766621, \"McDonald's\"),\n",
       "  Text(-1.0297527071313402, -0.3867936945655609, 'KFC'),\n",
       "  Text(-0.127202142051746, -1.0926205265587168, 'Burger King'),\n",
       "  Text(0.7218684939024623, -0.8300035406617197, \"Wendy's\"),\n",
       "  Text(1.0496063218361855, -0.3291300186271584, \"Arby's\"),\n",
       "  Text(1.0967472523394624, 0.08453084931455286, \"Domino's Pizza\"),\n",
       "  Text(1.0250717332300474, 0.39903376014160336, 'Subway'),\n",
       "  Text(0.899704066322699, 0.6328764437411151, 'SONIC Drive In'),\n",
       "  Text(0.7683802237162359, 0.7871415576640503, \"Hardee's\"),\n",
       "  Text(0.6266418032012839, 0.9040575482128577, 'Jack in the Box')],\n",
       " [Text(-0.23919551011293025, 0.5502594914599975, '29.7%'),\n",
       "  Text(-0.5616832947989128, -0.21097837885394227, '18.7%'),\n",
       "  Text(-0.06938298657367963, -0.5959748326683909, '16.2%'),\n",
       "  Text(0.39374645121952484, -0.4527292039973016, '10.3%'),\n",
       "  Text(0.5725125391833739, -0.17952546470572275, '7.3%'),\n",
       "  Text(0.5982257740033431, 0.0461077359897561, '4.8%'),\n",
       "  Text(0.5591300363072985, 0.21765477825905635, '4.5%'),\n",
       "  Text(0.4907476725396539, 0.34520533294969913, '3.2%'),\n",
       "  Text(0.4191164856634014, 0.42934994054402736, '2.7%'),\n",
       "  Text(0.341804619927973, 0.49312229902519505, '2.6%')])"
      ]
     },
     "execution_count": 79,
     "metadata": {},
     "output_type": "execute_result"
    },
    {
     "data": {
      "image/png": "[encoded data removed]",
      "text/plain": [
       "<Figure size 432x288 with 1 Axes>"
      ]
     },
     "metadata": {},
     "output_type": "display_data"
    }
   ],
   "source": [
    "plt.pie(df_rest,labels=df_rest.keys(),startangle=60, autopct='%1.1f%%',shadow=True) #pie plot of count of respective Restaurant"
   ]
  },
  {
   "cell_type": "markdown",
   "metadata": {},
   "source": [
    "### How many KFC restaurants are there in different cities?"
   ]
  },
  {
   "cell_type": "code",
   "execution_count": 81,
   "metadata": {},
   "outputs": [
    {
     "data": {
      "text/plain": [
       "name  city           \n",
       "KFC   Cincinnati         21\n",
       "      Houston             9\n",
       "      Miami               7\n",
       "      Williamsburg        7\n",
       "      Denver              7\n",
       "      Aberdeen            6\n",
       "      Portland            6\n",
       "      Saint Louis         6\n",
       "      Salem               6\n",
       "      Florence            6\n",
       "      Columbus            6\n",
       "      Chicago             6\n",
       "      Washington          5\n",
       "      Carrollton          5\n",
       "      Fort Lauderdale     5\n",
       "      Cleveland           5\n",
       "      Oklahoma City       5\n",
       "      Newport             5\n",
       "      Belleville          5\n",
       "      Franklin            5\n",
       "Name: Total count, dtype: int64"
      ]
     },
     "execution_count": 81,
     "metadata": {},
     "output_type": "execute_result"
    }
   ],
   "source": [
    "df_kfc= df[df['name']=='KFC']                              # KFC restaurant count in different cities\n",
    "df3=df_kfc.groupby(['name','city']).count().sort_values(by=[\"keys\"],ascending=False)\n",
    "df3['Total count']=df3['keys']\n",
    "df3['Total count'].head(20)\n",
    "\n",
    "\n"
   ]
  },
  {
   "cell_type": "code",
   "execution_count": 82,
   "metadata": {},
   "outputs": [
    {
     "data": {
      "text/plain": [
       "<matplotlib.axes._subplots.AxesSubplot at 0x220c52dce48>"
      ]
     },
     "execution_count": 82,
     "metadata": {},
     "output_type": "execute_result"
    },
    {
     "data": {
      "image/png": "[encoded data removed]",
      "text/plain": [
       "<Figure size 432x288 with 1 Axes>"
      ]
     },
     "metadata": {
      "needs_background": "light"
     },
     "output_type": "display_data"
    }
   ],
   "source": [
    "df3['Total count'].head(20).plot.bar()                            # Bar plot of KFC restaurant count in different cities"
   ]
  },
  {
   "cell_type": "markdown",
   "metadata": {},
   "source": [
    "### How Many McDonals restaurants are there in different cities?"
   ]
  },
  {
   "cell_type": "code",
   "execution_count": 70,
   "metadata": {},
   "outputs": [
    {
     "data": {
      "text/plain": [
       "<matplotlib.axes._subplots.AxesSubplot at 0x220c4db79b0>"
      ]
     },
     "execution_count": 70,
     "metadata": {},
     "output_type": "execute_result"
    },
    {
     "data": {
      "image/png": "[encoded data removed]",
      "text/plain": [
       "<Figure size 432x288 with 1 Axes>"
      ]
     },
     "metadata": {
      "needs_background": "light"
     },
     "output_type": "display_data"
    }
   ],
   "source": [
    "df_kfc= df[df['name']==\"McDonald's\"]                           # Bar plot of McDonalds restaurant count in different cities\n",
    "df3=df_kfc.groupby(['name','city']).count().sort_values(by=[\"keys\"],ascending=False)\n",
    "df3['Total count']=df3['keys']\n",
    "df3['Total count'].head(20).plot.bar()"
   ]
  },
  {
   "cell_type": "markdown",
   "metadata": {},
   "source": [
    "### How many different restaurants are there in Cincinnati city?"
   ]
  },
  {
   "cell_type": "code",
   "execution_count": 71,
   "metadata": {},
   "outputs": [
    {
     "data": {
      "text/plain": [
       "<matplotlib.axes._subplots.AxesSubplot at 0x220c4f39198>"
      ]
     },
     "execution_count": 71,
     "metadata": {},
     "output_type": "execute_result"
    },
    {
     "data": {
      "image/png": "[encoded data removed]",
      "text/plain": [
       "<Figure size 432x288 with 1 Axes>"
      ]
     },
     "metadata": {
      "needs_background": "light"
     },
     "output_type": "display_data"
    }
   ],
   "source": [
    "df_kfc= df[df['city']==\"Cincinnati\"]                              # Restaurants available in Cincinnati city\n",
    "df3=df_kfc.groupby(['city','name']).count().sort_values(by=[\"keys\"],ascending=False)\n",
    "df3['Total count']=df3['keys']\n",
    "df3['Total count'].head(20).plot.bar()\n"
   ]
  },
  {
   "cell_type": "markdown",
   "metadata": {},
   "source": [
    "### What are those restaurants which dont have websites?"
   ]
  },
  {
   "cell_type": "code",
   "execution_count": 72,
   "metadata": {},
   "outputs": [
    {
     "data": {
      "text/plain": [
       "<matplotlib.axes._subplots.AxesSubplot at 0x220c4fd3be0>"
      ]
     },
     "execution_count": 72,
     "metadata": {},
     "output_type": "execute_result"
    },
    {
     "data": {
      "image/png": "[encoded data removed]",
      "text/plain": [
       "<Figure size 432x288 with 1 Axes>"
      ]
     },
     "metadata": {
      "needs_background": "light"
     },
     "output_type": "display_data"
    }
   ],
   "source": [
    "df_missing= df[df['websites']==\"Website is missing\"]        # plot to show missing websites for restaurants\n",
    "df3=df_missing.groupby(['name']).count().sort_values(by=[\"keys\"],ascending=False)\n",
    "df3['Total count']=df3['keys']\n",
    "df3['Total count'].head(15).plot.bar()\n",
    "#df3['Total count'].head(15).plot.line()"
   ]
  },
  {
   "cell_type": "markdown",
   "metadata": {},
   "source": [
    "<a id=section7></a>"
   ]
  },
  {
   "cell_type": "markdown",
   "metadata": {},
   "source": [
    "<a id=section7></a>"
   ]
  },
  {
   "cell_type": "markdown",
   "metadata": {},
   "source": [
    "### Conclusion"
   ]
  },
  {
   "cell_type": "markdown",
   "metadata": {},
   "source": [
    "1. All the records are mainly of North America, No records for South America.\n",
    "2. Those restaurants which dont have websites data in this record might not having their own websites or data is missing in this data set.\n",
    "3. Some cities have very few number of restaurants. There might be some feasibility analysis on the growth of restaurant business in those cities.\n",
    "4. McDonald's has the most number of restaurants in USA followed by KFC and burger king respectively.\n",
    "5. Cincinnati city has the mst number of restaurant in USA."
   ]
  }
 ],
 "metadata": {
  "kernelspec": {
   "display_name": "Python 3",
   "language": "python",
   "name": "python3"
  },
  "language_info": {
   "codemirror_mode": {
    "name": "ipython",
    "version": 3
   },
   "file_extension": ".py",
   "mimetype": "text/x-python",
   "name": "python",
   "nbconvert_exporter": "python",
   "pygments_lexer": "ipython3",
   "version": "3.7.0"
  }
 },
 "nbformat": 4,
 "nbformat_minor": 2
}
